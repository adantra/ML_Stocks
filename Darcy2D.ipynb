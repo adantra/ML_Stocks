{
  "nbformat": 4,
  "nbformat_minor": 0,
  "metadata": {
    "colab": {
      "name": "Darcy2D.ipynb",
      "provenance": [],
      "collapsed_sections": [],
      "machine_shape": "hm",
      "authorship_tag": "ABX9TyOOXSJ7397hWku/bS3Fi0wu",
      "include_colab_link": true
    },
    "kernelspec": {
      "name": "python3",
      "display_name": "Python 3"
    },
    "language_info": {
      "name": "python"
    },
    "accelerator": "GPU"
  },
  "cells": [
    {
      "cell_type": "markdown",
      "metadata": {
        "id": "view-in-github",
        "colab_type": "text"
      },
      "source": [
        "<a href=\"https://colab.research.google.com/github/adantra/ML_Stocks/blob/master/Darcy2D.ipynb\" target=\"_parent\"><img src=\"https://colab.research.google.com/assets/colab-badge.svg\" alt=\"Open In Colab\"/></a>"
      ]
    },
    {
      "cell_type": "code",
      "metadata": {
        "colab": {
          "base_uri": "https://localhost:8080/"
        },
        "id": "49OBlKX_2X0p",
        "outputId": "b67dbd31-38a3-474a-b2ca-0a2b7248ea31"
      },
      "source": [
        "!pip install nangs"
      ],
      "execution_count": 1,
      "outputs": [
        {
          "output_type": "stream",
          "text": [
            "Collecting nangs\n",
            "  Downloading https://files.pythonhosted.org/packages/4c/cd/7eeca93e6088a85d18ff99897743aaf429c94c12049e56f2a1e8b2091656/nangs-0.1.2-py3-none-any.whl\n",
            "Installing collected packages: nangs\n",
            "Successfully installed nangs-0.1.2\n"
          ],
          "name": "stdout"
        }
      ]
    },
    {
      "cell_type": "code",
      "metadata": {
        "id": "LyXPy8I92Z7g"
      },
      "source": [
        "# autoreload nangs\n",
        "%reload_ext autoreload\n",
        "%autoreload 2\n",
        "%matplotlib inline"
      ],
      "execution_count": 2,
      "outputs": []
    },
    {
      "cell_type": "code",
      "metadata": {
        "colab": {
          "base_uri": "https://localhost:8080/"
        },
        "id": "2tc_1Iyo2lV-",
        "outputId": "6e21c111-943f-4c0b-e734-4dc1c16904b4"
      },
      "source": [
        "#imports\n",
        "\n",
        "import numpy as np \n",
        "import matplotlib.pyplot as plt \n",
        "import torch\n",
        "import pandas as pd\n",
        "import nangs\n",
        "from nangs import *\n",
        "\n",
        "device = \"cuda\" if torch.cuda.is_available() else \"cpu\"\n",
        "\n",
        "nangs.__version__, torch.__version__"
      ],
      "execution_count": 3,
      "outputs": [
        {
          "output_type": "execute_result",
          "data": {
            "text/plain": [
              "('0.1.2', '1.9.0+cu102')"
            ]
          },
          "metadata": {
            "tags": []
          },
          "execution_count": 3
        }
      ]
    },
    {
      "cell_type": "code",
      "metadata": {
        "colab": {
          "base_uri": "https://localhost:8080/",
          "height": 37
        },
        "id": "rTta38DB2obV",
        "outputId": "9291db72-43b6-4ec8-ec65-982c68b955b5"
      },
      "source": [
        "device\n"
      ],
      "execution_count": 4,
      "outputs": [
        {
          "output_type": "execute_result",
          "data": {
            "application/vnd.google.colaboratory.intrinsic+json": {
              "type": "string"
            },
            "text/plain": [
              "'cuda'"
            ]
          },
          "metadata": {
            "tags": []
          },
          "execution_count": 4
        }
      ]
    },
    {
      "cell_type": "code",
      "metadata": {
        "id": "W55VlZAO2vcY"
      },
      "source": [
        "alpha=0.0\n",
        "class Difussion2d(PDE):\n",
        "    def computePDELoss(self, inputs, outputs):\n",
        "        p = outputs[:, 0]\n",
        "        grads = self.computeGrads(p, inputs)\n",
        "        dpdx, dpdy = grads[:, 0], grads[:, 1]\n",
        "        x=inputs[:,1]\n",
        "        # second order derivatives        \n",
        "        dp2dx2 = self.computeGrads(dpdx, inputs)[:, 0] \n",
        "        dp2dy2 = self.computeGrads(dpdy, inputs)[:, 1]\n",
        "        return {'loss':alpha - (dp2dx2 + dp2dy2)}"
      ],
      "execution_count": 169,
      "outputs": []
    },
    {
      "cell_type": "code",
      "metadata": {
        "id": "Wuq89V6s3dOX"
      },
      "source": [
        "class NeumannX(Neumann):\n",
        "    def computeBocoLoss(self, inputs, outputs):\n",
        "        p = outputs[:, 0]\n",
        "        grads = self.computeGrads(p, inputs)\n",
        "        dpdx = grads[:, 0]\n",
        "        return {'gradX': dpdx}"
      ],
      "execution_count": 170,
      "outputs": []
    },
    {
      "cell_type": "code",
      "metadata": {
        "id": "nVKfDt6S3hGV"
      },
      "source": [
        "class NeumannY(Neumann):\n",
        "    def computeBocoLoss(self, inputs, outputs):\n",
        "        p = outputs[:, 0]\n",
        "        grads = self.computeGrads(p, inputs)\n",
        "        dpdy = grads[:, 1]\n",
        "        return {'gradX': dpdy}"
      ],
      "execution_count": 171,
      "outputs": []
    },
    {
      "cell_type": "code",
      "metadata": {
        "id": "IturBEIS3jyj"
      },
      "source": [
        "pde = Difussion2d(inputs=('x', 'y'), outputs='p')"
      ],
      "execution_count": 172,
      "outputs": []
    },
    {
      "cell_type": "code",
      "metadata": {
        "id": "v6s9koba3mHJ"
      },
      "source": [
        "# mesh \n",
        "\n",
        "x = np.linspace(0,1,100)\n",
        "y = np.linspace(0,1,100)\n",
        "t = np.linspace(0,1,20)\n",
        "\n",
        "mesh = Mesh({'x': x, 'y': y}, device=device)\n",
        "pde.set_mesh(mesh)"
      ],
      "execution_count": 173,
      "outputs": []
    },
    {
      "cell_type": "code",
      "metadata": {
        "id": "OkCZuKCO3o1C"
      },
      "source": [
        "from nangs import Dirichlet"
      ],
      "execution_count": 174,
      "outputs": []
    },
    {
      "cell_type": "code",
      "metadata": {
        "id": "FNI7VwAX3tN2"
      },
      "source": [
        "t0 = np.array([0])"
      ],
      "execution_count": 175,
      "outputs": []
    },
    {
      "cell_type": "code",
      "metadata": {
        "id": "kP0TCEoD3veq"
      },
      "source": [
        "_x, _y = np.meshgrid(x, y)\n",
        "p0 = np.sin(2*np.pi*_x)*np.sin(2*np.pi*_y)"
      ],
      "execution_count": 176,
      "outputs": []
    },
    {
      "cell_type": "code",
      "metadata": {
        "id": "1h1r1FFh9TXV"
      },
      "source": [
        "p0=np.zeros((100,100))\n",
        "p0[:]=0\n",
        "#p0[47:53,47:53]=1"
      ],
      "execution_count": 177,
      "outputs": []
    },
    {
      "cell_type": "code",
      "metadata": {
        "colab": {
          "base_uri": "https://localhost:8080/",
          "height": 248
        },
        "id": "t5gEEWsX9VdN",
        "outputId": "483bc33f-fe1b-4f09-c63a-ceea22b1b22a"
      },
      "source": [
        "from mpl_toolkits.mplot3d import Axes3D\n",
        "import matplotlib.pyplot as plt\n",
        "from matplotlib import cm\n",
        "fig = plt.figure()\n",
        "ax = fig.gca(projection='3d')\n",
        "surf = ax.plot_surface(_x, _y, p0.reshape((_y.shape[0],_x.shape[1])), cmap=cm.coolwarm, linewidth=0, antialiased=False)\n",
        "fig.colorbar(surf, shrink=0.5, aspect=5)\n",
        "plt.show()"
      ],
      "execution_count": 178,
      "outputs": [
        {
          "output_type": "display_data",
          "data": {
            "image/png": "[encoded data removed]",
            "text/plain": [
              "<Figure size 432x288 with 2 Axes>"
            ]
          },
          "metadata": {
            "tags": [],
            "needs_background": "light"
          }
        }
      ]
    },
    {
      "cell_type": "code",
      "metadata": {
        "id": "8pM3FPKv3yMj"
      },
      "source": [
        "#initial_condition = Dirichlet({'x': x, 'y': y}, {'p': p0.reshape(-1)}, device=device, name=\"initial\")"
      ],
      "execution_count": 179,
      "outputs": []
    },
    {
      "cell_type": "code",
      "metadata": {
        "id": "OXFa0Hpi30nP"
      },
      "source": [
        "#pde.add_boco(initial_condition)\n",
        "p0=np.ones(len(y))\n",
        "p1=np.zeros(len(y))"
      ],
      "execution_count": 180,
      "outputs": []
    },
    {
      "cell_type": "code",
      "metadata": {
        "id": "Hi6Telpj32z3"
      },
      "source": [
        "#left = NeumannX({'x': np.array([0]), 'y': y, 't':t}, name='left', device=device)\n",
        "left = Dirichlet({'x': x[0], 'y': y}, {'p': p0.reshape(-1)}, device=device, name=\"left\")"
      ],
      "execution_count": 181,
      "outputs": []
    },
    {
      "cell_type": "code",
      "metadata": {
        "id": "i-gJ-qWG35HC"
      },
      "source": [
        "pde.add_boco(left)"
      ],
      "execution_count": 182,
      "outputs": []
    },
    {
      "cell_type": "code",
      "metadata": {
        "id": "P9dMp4We38-y"
      },
      "source": [
        "#right = NeumannX({'x': np.array([1]), 'y': y, 't':t}, name='right', device=device)\n",
        "right = Dirichlet({'x': x[-1], 'y': y}, {'p': p1.reshape(-1)}, device=device, name=\"right\")"
      ],
      "execution_count": 183,
      "outputs": []
    },
    {
      "cell_type": "code",
      "metadata": {
        "id": "-zK0NPGN3_Pm"
      },
      "source": [
        "pde.add_boco(right)"
      ],
      "execution_count": 184,
      "outputs": []
    },
    {
      "cell_type": "code",
      "metadata": {
        "id": "QgJBWxEX4Dqu"
      },
      "source": [
        "\n",
        "top = NeumannY({'x': x, 'y': y[-1]}, name='top', device=device)"
      ],
      "execution_count": 185,
      "outputs": []
    },
    {
      "cell_type": "code",
      "metadata": {
        "id": "TI8EHmmt4GSw"
      },
      "source": [
        "pde.add_boco(top)"
      ],
      "execution_count": 186,
      "outputs": []
    },
    {
      "cell_type": "code",
      "metadata": {
        "id": "lpcpSYAF4I4t"
      },
      "source": [
        "bottom = NeumannY({'x': x, 'y': y[-1]}, name='bottom', device=device)"
      ],
      "execution_count": 187,
      "outputs": []
    },
    {
      "cell_type": "code",
      "metadata": {
        "id": "WfDK9vIy4LG9"
      },
      "source": [
        "pde.add_boco(bottom)"
      ],
      "execution_count": 188,
      "outputs": []
    },
    {
      "cell_type": "code",
      "metadata": {
        "id": "_Zf3hbzK4NSo"
      },
      "source": [
        "from nangs import MLP\n",
        "\n",
        "BATCH_SIZE = 512\n",
        "LR = 1e-2\n",
        "EPOCHS = 150\n",
        "NUM_LAYERS = 3\n",
        "NUM_HIDDEN = 256\n",
        "\n",
        "mlp = MLP(len(pde.inputs), len(pde.outputs), NUM_LAYERS, NUM_HIDDEN).to(device)\n",
        "optimizer = torch.optim.Adam(mlp.parameters())\n",
        "scheduler = torch.optim.lr_scheduler.OneCycleLR(optimizer, max_lr=LR, pct_start=0.1, total_steps=EPOCHS)"
      ],
      "execution_count": 189,
      "outputs": []
    },
    {
      "cell_type": "code",
      "metadata": {
        "id": "nmlVwfsY4Qpj"
      },
      "source": [
        "pde.compile(mlp, optimizer, scheduler)"
      ],
      "execution_count": 190,
      "outputs": []
    },
    {
      "cell_type": "code",
      "metadata": {
        "colab": {
          "base_uri": "https://localhost:8080/",
          "height": 1000
        },
        "id": "4HdLw0uL4TA9",
        "outputId": "c72de1f9-2bed-4b75-cc7a-e1cce4f4b29d"
      },
      "source": [
        "%time hist = pde.solve(EPOCHS, BATCH_SIZE)"
      ],
      "execution_count": 191,
      "outputs": [
        {
          "output_type": "display_data",
          "data": {
            "text/html": [
              "Epoch 1/150  | lr 0.0004 | left 0.13366 | right 0.09555 | top_gradX 0.0027 | bottom_gradX 0.0027 | loss 0.02595<p>Epoch 2/150  | lr 0.00052 | left 0.029 | right 0.01535 | top_gradX 0.00085 | bottom_gradX 0.00085 | loss 0.01219<p>Epoch 3/150  | lr 0.00088 | left 0.00906 | right 0.00914 | top_gradX 0.00039 | bottom_gradX 0.00039 | loss 0.01158<p>Epoch 4/150  | lr 0.00145 | left 0.0028 | right 0.00373 | top_gradX 0.00012 | bottom_gradX 0.00012 | loss 0.00577<p>Epoch 5/150  | lr 0.00221 | left 0.00136 | right 0.0012 | top_gradX 0.00031 | bottom_gradX 0.00031 | loss 0.00266<p>Epoch 6/150  | lr 0.00312 | left 0.00033 | right 0.00035 | top_gradX 6e-05 | bottom_gradX 6e-05 | loss 0.00089<p>Epoch 7/150  | lr 0.00413 | left 0.00098 | right 0.00089 | top_gradX 0.00314 | bottom_gradX 0.00314 | loss 0.00341<p>Epoch 8/150  | lr 0.0052 | left 0.00491 | right 0.00506 | top_gradX 0.00047 | bottom_gradX 0.00047 | loss 0.00112<p>Epoch 9/150  | lr 0.00627 | left 0.0004 | right 0.00056 | top_gradX 3e-05 | bottom_gradX 3e-05 | loss 0.00023<p>Epoch 10/150  | lr 0.00728 | left 6e-05 | right 5e-05 | top_gradX 1e-05 | bottom_gradX 1e-05 | loss 6e-05<p>Epoch 11/150  | lr 0.00819 | left 1.07185 | right 0.67265 | top_gradX 0.0041 | bottom_gradX 0.0041 | loss 0.47978<p>Epoch 12/150  | lr 0.00895 | left 1.20585 | right 0.80625 | top_gradX 13.07766 | bottom_gradX 13.07766 | loss 966.47625<p>Epoch 13/150  | lr 0.00952 | left 1.21295 | right 0.79506 | top_gradX 30.68074 | bottom_gradX 30.68074 | loss 2839.14365<p>Epoch 14/150  | lr 0.00988 | left 1.24239 | right 0.66021 | top_gradX 9.25561 | bottom_gradX 9.25561 | loss 765.87904<p>Epoch 15/150  | lr 0.01 | left 0.47903 | right 0.14817 | top_gradX 0.57195 | bottom_gradX 0.57195 | loss 44.94567<p>Epoch 16/150  | lr 0.01 | left 0.04373 | right 0.10678 | top_gradX 0.04333 | bottom_gradX 0.04333 | loss 1.49486<p>Epoch 17/150  | lr 0.00999 | left 0.01661 | right 0.04742 | top_gradX 0.00429 | bottom_gradX 0.00429 | loss 0.21902<p>Epoch 18/150  | lr 0.00999 | left 0.01105 | right 0.01751 | top_gradX 0.00216 | bottom_gradX 0.00216 | loss 0.10969<p>Epoch 19/150  | lr 0.00998 | left 0.00784 | right 0.00984 | top_gradX 0.00117 | bottom_gradX 0.00117 | loss 0.08131<p>Epoch 20/150  | lr 0.00997 | left 0.00655 | right 0.00745 | top_gradX 0.00068 | bottom_gradX 0.00068 | loss 0.06403<p>Epoch 21/150  | lr 0.00995 | left 0.00561 | right 0.00633 | top_gradX 0.00043 | bottom_gradX 0.00043 | loss 0.05261<p>Epoch 22/150  | lr 0.00993 | left 0.00498 | right 0.00568 | top_gradX 0.00029 | bottom_gradX 0.00029 | loss 0.04519<p>Epoch 23/150  | lr 0.00991 | left 0.00425 | right 0.00531 | top_gradX 0.00024 | bottom_gradX 0.00024 | loss 0.0396<p>Epoch 24/150  | lr 0.00989 | left 0.00376 | right 0.00495 | top_gradX 0.00024 | bottom_gradX 0.00024 | loss 0.03485<p>Epoch 25/150  | lr 0.00987 | left 0.00314 | right 0.00464 | top_gradX 0.0002 | bottom_gradX 0.0002 | loss 0.03131<p>Epoch 26/150  | lr 0.00984 | left 0.00275 | right 0.00448 | top_gradX 0.00019 | bottom_gradX 0.00019 | loss 0.02865<p>Epoch 27/150  | lr 0.00981 | left 0.00249 | right 0.00425 | top_gradX 0.00021 | bottom_gradX 0.00021 | loss 0.02627<p>Epoch 28/150  | lr 0.00977 | left 0.00205 | right 0.0041 | top_gradX 0.00028 | bottom_gradX 0.00028 | loss 0.02545<p>Epoch 29/150  | lr 0.00974 | left 0.00183 | right 0.0039 | top_gradX 0.00022 | bottom_gradX 0.00022 | loss 0.02302<p>Epoch 30/150  | lr 0.0097 | left 0.00158 | right 0.00375 | top_gradX 0.00021 | bottom_gradX 0.00021 | loss 0.02121<p>Epoch 31/150  | lr 0.00966 | left 0.00133 | right 0.00362 | top_gradX 0.00021 | bottom_gradX 0.00021 | loss 0.01979<p>Epoch 32/150  | lr 0.00961 | left 0.0012 | right 0.00347 | top_gradX 0.0002 | bottom_gradX 0.0002 | loss 0.01839<p>Epoch 33/150  | lr 0.00957 | left 0.00098 | right 0.00336 | top_gradX 0.00023 | bottom_gradX 0.00023 | loss 0.01848<p>Epoch 34/150  | lr 0.00952 | left 0.00091 | right 0.00319 | top_gradX 0.00017 | bottom_gradX 0.00017 | loss 0.01665<p>Epoch 35/150  | lr 0.00947 | left 0.0008 | right 0.00309 | top_gradX 0.00018 | bottom_gradX 0.00018 | loss 0.01596<p>Epoch 36/150  | lr 0.00941 | left 0.00073 | right 0.00297 | top_gradX 0.00015 | bottom_gradX 0.00015 | loss 0.01507<p>Epoch 37/150  | lr 0.00936 | left 0.00061 | right 0.00288 | top_gradX 0.00014 | bottom_gradX 0.00014 | loss 0.0144<p>Epoch 38/150  | lr 0.0093 | left 0.00056 | right 0.00275 | top_gradX 0.00015 | bottom_gradX 0.00015 | loss 0.01377<p>Epoch 39/150  | lr 0.00924 | left 0.00051 | right 0.00268 | top_gradX 0.00014 | bottom_gradX 0.00014 | loss 0.01336<p>Epoch 40/150  | lr 0.00918 | left 0.00045 | right 0.00256 | top_gradX 0.00013 | bottom_gradX 0.00013 | loss 0.01265<p>Epoch 41/150  | lr 0.00911 | left 0.00043 | right 0.00249 | top_gradX 0.00011 | bottom_gradX 0.00011 | loss 0.01204<p>Epoch 42/150  | lr 0.00905 | left 0.00038 | right 0.00239 | top_gradX 0.00013 | bottom_gradX 0.00013 | loss 0.012<p>Epoch 43/150  | lr 0.00898 | left 0.00034 | right 0.0023 | top_gradX 0.00011 | bottom_gradX 0.00011 | loss 0.01119<p>Epoch 44/150  | lr 0.0089 | left 0.00033 | right 0.00222 | top_gradX 9e-05 | bottom_gradX 9e-05 | loss 0.01089<p>Epoch 45/150  | lr 0.00883 | left 0.0003 | right 0.00218 | top_gradX 0.00011 | bottom_gradX 0.00011 | loss 0.01114<p>Epoch 46/150  | lr 0.00875 | left 0.00029 | right 0.00208 | top_gradX 9e-05 | bottom_gradX 9e-05 | loss 0.01052<p>Epoch 47/150  | lr 0.00868 | left 0.00026 | right 0.002 | top_gradX 9e-05 | bottom_gradX 9e-05 | loss 0.01016<p>Epoch 48/150  | lr 0.0086 | left 0.00026 | right 0.00196 | top_gradX 8e-05 | bottom_gradX 8e-05 | loss 0.00952<p>Epoch 49/150  | lr 0.00851 | left 0.00023 | right 0.00189 | top_gradX 8e-05 | bottom_gradX 8e-05 | loss 0.00917<p>Epoch 50/150  | lr 0.00843 | left 0.00023 | right 0.00183 | top_gradX 7e-05 | bottom_gradX 7e-05 | loss 0.00897<p>Epoch 51/150  | lr 0.00835 | left 0.00023 | right 0.00176 | top_gradX 7e-05 | bottom_gradX 7e-05 | loss 0.00889<p>Epoch 52/150  | lr 0.00826 | left 0.00021 | right 0.00172 | top_gradX 6e-05 | bottom_gradX 6e-05 | loss 0.00844<p>Epoch 53/150  | lr 0.00817 | left 0.00019 | right 0.00166 | top_gradX 6e-05 | bottom_gradX 6e-05 | loss 0.00824<p>Epoch 54/150  | lr 0.00808 | left 0.00019 | right 0.00162 | top_gradX 7e-05 | bottom_gradX 7e-05 | loss 0.00818<p>Epoch 55/150  | lr 0.00799 | left 0.00017 | right 0.00157 | top_gradX 5e-05 | bottom_gradX 5e-05 | loss 0.00813<p>Epoch 56/150  | lr 0.00789 | left 0.00018 | right 0.00152 | top_gradX 5e-05 | bottom_gradX 5e-05 | loss 0.00754<p>Epoch 57/150  | lr 0.0078 | left 0.00017 | right 0.00146 | top_gradX 5e-05 | bottom_gradX 5e-05 | loss 0.00778<p>Epoch 58/150  | lr 0.0077 | left 0.00017 | right 0.00143 | top_gradX 5e-05 | bottom_gradX 5e-05 | loss 0.0072<p>Epoch 59/150  | lr 0.0076 | left 0.00016 | right 0.0014 | top_gradX 4e-05 | bottom_gradX 4e-05 | loss 0.00708<p>Epoch 60/150  | lr 0.0075 | left 0.00015 | right 0.00134 | top_gradX 4e-05 | bottom_gradX 4e-05 | loss 0.00688<p>Epoch 61/150  | lr 0.0074 | left 0.00015 | right 0.00131 | top_gradX 5e-05 | bottom_gradX 5e-05 | loss 0.00721<p>Epoch 62/150  | lr 0.0073 | left 0.00014 | right 0.00128 | top_gradX 5e-05 | bottom_gradX 5e-05 | loss 0.00697<p>Epoch 63/150  | lr 0.00719 | left 0.00014 | right 0.00124 | top_gradX 3e-05 | bottom_gradX 3e-05 | loss 0.00655<p>Epoch 64/150  | lr 0.00709 | left 0.00013 | right 0.0012 | top_gradX 5e-05 | bottom_gradX 5e-05 | loss 0.00654<p>Epoch 65/150  | lr 0.00698 | left 0.00013 | right 0.00118 | top_gradX 3e-05 | bottom_gradX 3e-05 | loss 0.00621<p>Epoch 66/150  | lr 0.00687 | left 0.00013 | right 0.00114 | top_gradX 3e-05 | bottom_gradX 3e-05 | loss 0.00615<p>Epoch 67/150  | lr 0.00676 | left 0.00012 | right 0.00112 | top_gradX 4e-05 | bottom_gradX 4e-05 | loss 0.00617<p>Epoch 68/150  | lr 0.00666 | left 0.00013 | right 0.0011 | top_gradX 4e-05 | bottom_gradX 4e-05 | loss 0.00609<p>Epoch 69/150  | lr 0.00655 | left 0.00011 | right 0.00105 | top_gradX 3e-05 | bottom_gradX 3e-05 | loss 0.0059<p>Epoch 70/150  | lr 0.00643 | left 0.00011 | right 0.00105 | top_gradX 3e-05 | bottom_gradX 3e-05 | loss 0.00581<p>Epoch 71/150  | lr 0.00632 | left 0.00011 | right 0.001 | top_gradX 3e-05 | bottom_gradX 3e-05 | loss 0.00559<p>Epoch 72/150  | lr 0.00621 | left 0.00011 | right 0.00099 | top_gradX 3e-05 | bottom_gradX 3e-05 | loss 0.00593<p>Epoch 73/150  | lr 0.0061 | left 0.00011 | right 0.00097 | top_gradX 3e-05 | bottom_gradX 3e-05 | loss 0.00547<p>Epoch 74/150  | lr 0.00598 | left 0.0001 | right 0.00094 | top_gradX 2e-05 | bottom_gradX 2e-05 | loss 0.00522<p>Epoch 75/150  | lr 0.00587 | left 0.0001 | right 0.00093 | top_gradX 2e-05 | bottom_gradX 2e-05 | loss 0.00505<p>Epoch 76/150  | lr 0.00575 | left 0.0001 | right 0.0009 | top_gradX 2e-05 | bottom_gradX 2e-05 | loss 0.00516<p>Epoch 77/150  | lr 0.00564 | left 0.0001 | right 0.00088 | top_gradX 2e-05 | bottom_gradX 2e-05 | loss 0.00501<p>Epoch 78/150  | lr 0.00552 | left 0.0001 | right 0.00087 | top_gradX 2e-05 | bottom_gradX 2e-05 | loss 0.00493<p>Epoch 79/150  | lr 0.00541 | left 9e-05 | right 0.00084 | top_gradX 2e-05 | bottom_gradX 2e-05 | loss 0.00491<p>Epoch 80/150  | lr 0.00529 | left 9e-05 | right 0.00084 | top_gradX 2e-05 | bottom_gradX 2e-05 | loss 0.00473<p>Epoch 81/150  | lr 0.00517 | left 9e-05 | right 0.00081 | top_gradX 2e-05 | bottom_gradX 2e-05 | loss 0.00469<p>Epoch 82/150  | lr 0.00506 | left 9e-05 | right 0.0008 | top_gradX 2e-05 | bottom_gradX 2e-05 | loss 0.0046<p>Epoch 83/150  | lr 0.00494 | left 9e-05 | right 0.00078 | top_gradX 2e-05 | bottom_gradX 2e-05 | loss 0.00455<p>Epoch 84/150  | lr 0.00483 | left 9e-05 | right 0.00077 | top_gradX 2e-05 | bottom_gradX 2e-05 | loss 0.0045<p>Epoch 85/150  | lr 0.00471 | left 8e-05 | right 0.00075 | top_gradX 2e-05 | bottom_gradX 2e-05 | loss 0.00453<p>Epoch 86/150  | lr 0.00459 | left 8e-05 | right 0.00074 | top_gradX 2e-05 | bottom_gradX 2e-05 | loss 0.0045<p>Epoch 87/150  | lr 0.00448 | left 8e-05 | right 0.00072 | top_gradX 2e-05 | bottom_gradX 2e-05 | loss 0.00437<p>Epoch 88/150  | lr 0.00436 | left 8e-05 | right 0.00071 | top_gradX 2e-05 | bottom_gradX 2e-05 | loss 0.00427<p>Epoch 89/150  | lr 0.00425 | left 8e-05 | right 0.0007 | top_gradX 2e-05 | bottom_gradX 2e-05 | loss 0.00427<p>Epoch 90/150  | lr 0.00413 | left 8e-05 | right 0.00069 | top_gradX 1e-05 | bottom_gradX 1e-05 | loss 0.00413<p>Epoch 91/150  | lr 0.00402 | left 8e-05 | right 0.00068 | top_gradX 2e-05 | bottom_gradX 2e-05 | loss 0.00422<p>Epoch 92/150  | lr 0.0039 | left 8e-05 | right 0.00067 | top_gradX 2e-05 | bottom_gradX 2e-05 | loss 0.00418<p>Epoch 93/150  | lr 0.00379 | left 7e-05 | right 0.00066 | top_gradX 2e-05 | bottom_gradX 2e-05 | loss 0.0042<p>Epoch 94/150  | lr 0.00368 | left 7e-05 | right 0.00065 | top_gradX 1e-05 | bottom_gradX 1e-05 | loss 0.00399<p>Epoch 95/150  | lr 0.00357 | left 7e-05 | right 0.00064 | top_gradX 1e-05 | bottom_gradX 1e-05 | loss 0.00398<p>Epoch 96/150  | lr 0.00345 | left 7e-05 | right 0.00063 | top_gradX 2e-05 | bottom_gradX 2e-05 | loss 0.0039<p>Epoch 97/150  | lr 0.00334 | left 7e-05 | right 0.00062 | top_gradX 2e-05 | bottom_gradX 2e-05 | loss 0.00388<p>Epoch 98/150  | lr 0.00324 | left 7e-05 | right 0.00061 | top_gradX 2e-05 | bottom_gradX 2e-05 | loss 0.00391<p>Epoch 99/150  | lr 0.00313 | left 7e-05 | right 0.00061 | top_gradX 1e-05 | bottom_gradX 1e-05 | loss 0.00382<p>Epoch 100/150  | lr 0.00302 | left 7e-05 | right 0.0006 | top_gradX 1e-05 | bottom_gradX 1e-05 | loss 0.00368<p>Epoch 101/150  | lr 0.00291 | left 7e-05 | right 0.00059 | top_gradX 1e-05 | bottom_gradX 1e-05 | loss 0.00369<p>Epoch 102/150  | lr 0.00281 | left 7e-05 | right 0.00058 | top_gradX 1e-05 | bottom_gradX 1e-05 | loss 0.00366<p>Epoch 103/150  | lr 0.0027 | left 7e-05 | right 0.00058 | top_gradX 1e-05 | bottom_gradX 1e-05 | loss 0.00358<p>Epoch 104/150  | lr 0.0026 | left 7e-05 | right 0.00057 | top_gradX 2e-05 | bottom_gradX 2e-05 | loss 0.00358<p>Epoch 105/150  | lr 0.0025 | left 7e-05 | right 0.00056 | top_gradX 1e-05 | bottom_gradX 1e-05 | loss 0.00359<p>Epoch 106/150  | lr 0.0024 | left 6e-05 | right 0.00056 | top_gradX 1e-05 | bottom_gradX 1e-05 | loss 0.00356<p>Epoch 107/150  | lr 0.0023 | left 6e-05 | right 0.00055 | top_gradX 1e-05 | bottom_gradX 1e-05 | loss 0.0035<p>Epoch 108/150  | lr 0.0022 | left 6e-05 | right 0.00054 | top_gradX 1e-05 | bottom_gradX 1e-05 | loss 0.00348<p>Epoch 109/150  | lr 0.00211 | left 6e-05 | right 0.00054 | top_gradX 1e-05 | bottom_gradX 1e-05 | loss 0.00349<p>Epoch 110/150  | lr 0.00201 | left 6e-05 | right 0.00055 | top_gradX 1e-05 | bottom_gradX 1e-05 | loss 0.00344<p>Epoch 111/150  | lr 0.00192 | left 6e-05 | right 0.00054 | top_gradX 1e-05 | bottom_gradX 1e-05 | loss 0.00345<p>Epoch 112/150  | lr 0.00183 | left 6e-05 | right 0.00053 | top_gradX 1e-05 | bottom_gradX 1e-05 | loss 0.00341<p>Epoch 113/150  | lr 0.00174 | left 6e-05 | right 0.00052 | top_gradX 1e-05 | bottom_gradX 1e-05 | loss 0.0034<p>Epoch 114/150  | lr 0.00165 | left 6e-05 | right 0.00052 | top_gradX 1e-05 | bottom_gradX 1e-05 | loss 0.00335<p>Epoch 115/150  | lr 0.00157 | left 6e-05 | right 0.00052 | top_gradX 1e-05 | bottom_gradX 1e-05 | loss 0.00336<p>Epoch 116/150  | lr 0.00149 | left 6e-05 | right 0.00051 | top_gradX 1e-05 | bottom_gradX 1e-05 | loss 0.00335<p>Epoch 117/150  | lr 0.0014 | left 6e-05 | right 0.00051 | top_gradX 1e-05 | bottom_gradX 1e-05 | loss 0.00332<p>Epoch 118/150  | lr 0.00132 | left 6e-05 | right 0.0005 | top_gradX 1e-05 | bottom_gradX 1e-05 | loss 0.00328<p>Epoch 119/150  | lr 0.00125 | left 6e-05 | right 0.00051 | top_gradX 1e-05 | bottom_gradX 1e-05 | loss 0.00327<p>Epoch 120/150  | lr 0.00117 | left 6e-05 | right 0.0005 | top_gradX 1e-05 | bottom_gradX 1e-05 | loss 0.00327<p>Epoch 121/150  | lr 0.0011 | left 6e-05 | right 0.0005 | top_gradX 1e-05 | bottom_gradX 1e-05 | loss 0.00326<p>Epoch 122/150  | lr 0.00102 | left 6e-05 | right 0.00049 | top_gradX 1e-05 | bottom_gradX 1e-05 | loss 0.00324<p>Epoch 123/150  | lr 0.00095 | left 6e-05 | right 0.0005 | top_gradX 1e-05 | bottom_gradX 1e-05 | loss 0.00319<p>Epoch 124/150  | lr 0.00089 | left 6e-05 | right 0.00049 | top_gradX 1e-05 | bottom_gradX 1e-05 | loss 0.0032<p>Epoch 125/150  | lr 0.00082 | left 6e-05 | right 0.00049 | top_gradX 1e-05 | bottom_gradX 1e-05 | loss 0.00322<p>Epoch 126/150  | lr 0.00076 | left 6e-05 | right 0.00048 | top_gradX 1e-05 | bottom_gradX 1e-05 | loss 0.00316<p>Epoch 127/150  | lr 0.0007 | left 6e-05 | right 0.00049 | top_gradX 1e-05 | bottom_gradX 1e-05 | loss 0.00317<p>Epoch 128/150  | lr 0.00064 | left 6e-05 | right 0.00048 | top_gradX 1e-05 | bottom_gradX 1e-05 | loss 0.00315<p>Epoch 129/150  | lr 0.00059 | left 6e-05 | right 0.00048 | top_gradX 1e-05 | bottom_gradX 1e-05 | loss 0.00314<p>Epoch 130/150  | lr 0.00053 | left 6e-05 | right 0.00048 | top_gradX 1e-05 | bottom_gradX 1e-05 | loss 0.00313<p>Epoch 131/150  | lr 0.00048 | left 6e-05 | right 0.00048 | top_gradX 1e-05 | bottom_gradX 1e-05 | loss 0.00313<p>Epoch 132/150  | lr 0.00043 | left 6e-05 | right 0.00048 | top_gradX 1e-05 | bottom_gradX 1e-05 | loss 0.00313<p>Epoch 133/150  | lr 0.00039 | left 6e-05 | right 0.00048 | top_gradX 1e-05 | bottom_gradX 1e-05 | loss 0.00311<p>Epoch 134/150  | lr 0.00034 | left 6e-05 | right 0.00047 | top_gradX 1e-05 | bottom_gradX 1e-05 | loss 0.0031<p>Epoch 135/150  | lr 0.0003 | left 6e-05 | right 0.00048 | top_gradX 1e-05 | bottom_gradX 1e-05 | loss 0.0031<p>Epoch 136/150  | lr 0.00026 | left 6e-05 | right 0.00047 | top_gradX 1e-05 | bottom_gradX 1e-05 | loss 0.00308<p>Epoch 137/150  | lr 0.00023 | left 6e-05 | right 0.00047 | top_gradX 1e-05 | bottom_gradX 1e-05 | loss 0.0031<p>Epoch 138/150  | lr 0.00019 | left 6e-05 | right 0.00047 | top_gradX 1e-05 | bottom_gradX 1e-05 | loss 0.00308<p>Epoch 139/150  | lr 0.00016 | left 6e-05 | right 0.00047 | top_gradX 1e-05 | bottom_gradX 1e-05 | loss 0.00311<p>Epoch 140/150  | lr 0.00013 | left 6e-05 | right 0.00047 | top_gradX 1e-05 | bottom_gradX 1e-05 | loss 0.0031<p>Epoch 141/150  | lr 0.00011 | left 6e-05 | right 0.00047 | top_gradX 1e-05 | bottom_gradX 1e-05 | loss 0.00308<p>Epoch 142/150  | lr 9e-05 | left 6e-05 | right 0.00047 | top_gradX 1e-05 | bottom_gradX 1e-05 | loss 0.00307<p>Epoch 143/150  | lr 7e-05 | left 6e-05 | right 0.00047 | top_gradX 1e-05 | bottom_gradX 1e-05 | loss 0.00309<p>Epoch 144/150  | lr 5e-05 | left 6e-05 | right 0.00047 | top_gradX 1e-05 | bottom_gradX 1e-05 | loss 0.00308<p>Epoch 145/150  | lr 3e-05 | left 6e-05 | right 0.00047 | top_gradX 1e-05 | bottom_gradX 1e-05 | loss 0.00307<p>Epoch 146/150  | lr 2e-05 | left 6e-05 | right 0.00047 | top_gradX 1e-05 | bottom_gradX 1e-05 | loss 0.00308<p>Epoch 147/150  | lr 1e-05 | left 6e-05 | right 0.00047 | top_gradX 1e-05 | bottom_gradX 1e-05 | loss 0.00307<p>Epoch 148/150  | lr 1e-05 | left 6e-05 | right 0.00047 | top_gradX 1e-05 | bottom_gradX 1e-05 | loss 0.00307<p>Epoch 149/150  | lr 0.0 | left 6e-05 | right 0.00047 | top_gradX 1e-05 | bottom_gradX 1e-05 | loss 0.00307<p>Epoch 150/150  | lr 0.0 | left 6e-05 | right 0.00047 | top_gradX 1e-05 | bottom_gradX 1e-05 | loss 0.00307"
            ],
            "text/plain": [
              "<IPython.core.display.HTML object>"
            ]
          },
          "metadata": {
            "tags": []
          }
        },
        {
          "output_type": "stream",
          "text": [
            "CPU times: user 1min 3s, sys: 3.03 s, total: 1min 6s\n",
            "Wall time: 1min 4s\n"
          ],
          "name": "stdout"
        }
      ]
    },
    {
      "cell_type": "code",
      "metadata": {
        "id": "6pWQeuc14V_9"
      },
      "source": [
        "t = 0.01\n",
        "x = np.linspace(0,1,100)\n",
        "y = np.linspace(0,1,100)\n",
        "\n",
        "_x, _y = np.meshgrid(x, y)"
      ],
      "execution_count": 192,
      "outputs": []
    },
    {
      "cell_type": "code",
      "metadata": {
        "id": "ycJ8qxzpGTBF"
      },
      "source": [
        "eval_mesh = Mesh({'x': x, 'y': y}, device=device)\n",
        "p = pde.eval(eval_mesh)\n",
        "p = p.cpu().numpy()"
      ],
      "execution_count": 193,
      "outputs": []
    },
    {
      "cell_type": "code",
      "metadata": {
        "colab": {
          "base_uri": "https://localhost:8080/"
        },
        "id": "iqZRyVU6GaYA",
        "outputId": "5ecc4e51-1baf-48ac-c566-0cb73513c003"
      },
      "source": [
        "p.shape"
      ],
      "execution_count": 194,
      "outputs": [
        {
          "output_type": "execute_result",
          "data": {
            "text/plain": [
              "(10000, 1)"
            ]
          },
          "metadata": {
            "tags": []
          },
          "execution_count": 194
        }
      ]
    },
    {
      "cell_type": "code",
      "metadata": {
        "colab": {
          "base_uri": "https://localhost:8080/",
          "height": 248
        },
        "id": "qV3ksfWtGrl1",
        "outputId": "c6cdd61c-b02e-4fe0-8a94-75537873075a"
      },
      "source": [
        "from mpl_toolkits.mplot3d import Axes3D\n",
        "import matplotlib.pyplot as plt\n",
        "from matplotlib import cm\n",
        "fig = plt.figure()\n",
        "ax = fig.gca(projection='3d')\n",
        "surf = ax.plot_surface(_x, _y, p.reshape((_y.shape[0],_x.shape[1])), cmap=cm.coolwarm, linewidth=0, antialiased=False)\n",
        "fig.colorbar(surf, shrink=0.5, aspect=5)\n",
        "plt.show()"
      ],
      "execution_count": 195,
      "outputs": [
        {
          "output_type": "display_data",
          "data": {
            "image/png": "[encoded data removed]",
            "text/plain": [
              "<Figure size 432x288 with 2 Axes>"
            ]
          },
          "metadata": {
            "tags": [],
            "needs_background": "light"
          }
        }
      ]
    },
    {
      "cell_type": "code",
      "metadata": {
        "id": "_mCNFVK_GwzT"
      },
      "source": [
        "p1=p.reshape((_y.shape[0],_x.shape[1]))"
      ],
      "execution_count": 100,
      "outputs": []
    },
    {
      "cell_type": "code",
      "metadata": {
        "colab": {
          "base_uri": "https://localhost:8080/",
          "height": 282
        },
        "id": "2Kc3vAeJlg36",
        "outputId": "4ff727e7-5503-4414-d2f2-4f97cbc66b7f"
      },
      "source": [
        "plt.plot(p1[0])"
      ],
      "execution_count": 101,
      "outputs": [
        {
          "output_type": "execute_result",
          "data": {
            "text/plain": [
              "[<matplotlib.lines.Line2D at 0x7f4ef0a09b90>]"
            ]
          },
          "metadata": {
            "tags": []
          },
          "execution_count": 101
        },
        {
          "output_type": "display_data",
          "data": {
            "image/png": "[encoded data removed]",
            "text/plain": [
              "<Figure size 432x288 with 1 Axes>"
            ]
          },
          "metadata": {
            "tags": [],
            "needs_background": "light"
          }
        }
      ]
    },
    {
      "cell_type": "code",
      "metadata": {
        "id": "nAtZaCnjKUUE"
      },
      "source": [
        "from google.colab import drive"
      ],
      "execution_count": 334,
      "outputs": []
    },
    {
      "cell_type": "code",
      "metadata": {
        "colab": {
          "base_uri": "https://localhost:8080/"
        },
        "id": "ndK4ByIOkQbP",
        "outputId": "3cedf279-1545-469f-8a6b-e86eabb0ebca"
      },
      "source": [
        "drive.mount('/content/gdrive')"
      ],
      "execution_count": 336,
      "outputs": [
        {
          "output_type": "stream",
          "text": [
            "Mounted at /content/gdrive\n"
          ],
          "name": "stdout"
        }
      ]
    },
    {
      "cell_type": "code",
      "metadata": {
        "colab": {
          "base_uri": "https://localhost:8080/"
        },
        "id": "11dIrHGCkUyY",
        "outputId": "be8d5e44-f50f-426c-da11-6e1ecec3f4b1"
      },
      "source": [
        "ls '/content/gdrive/MyDrive'"
      ],
      "execution_count": 338,
      "outputs": [
        {
          "output_type": "stream",
          "text": [
            "'070201 EQM-KY7-002 s.doc.gdoc'\n",
            " 08272013-02272014.pdf\n",
            " Agenda08_30_final.gdoc\n",
            "'Alan Aug 2008 Flyer.gdoc'\n",
            " Analysis\n",
            "\u001b[0m\u001b[01;34m'Awesome Note'\u001b[0m/\n",
            " azcopy\n",
            "'Boarding Pass - Check-in _ Spirit Airlines.pdf'\n",
            " carta.gdoc\n",
            " cartas.gdoc\n",
            "\u001b[01;34m'Clase 2'\u001b[0m/\n",
            " \u001b[01;34mClassroom\u001b[0m/\n",
            " cluster.pdf\n",
            "\u001b[01;34m'Colab Notebooks'\u001b[0m/\n",
            "'Comp3 KY6 ProjectProg_Aug07.gdoc'\n",
            "'Comp3 KY7 ProjectProg_Aug07.gdoc'\n",
            " Comp3ProjectProg_Feb07.doc.gdoc\n",
            " Comp3ProjectProg_June07.gdoc\n",
            " Conferencia1.xlsx\n",
            "'Corodoba Court lawn service 090614.xlsx'\n",
            "'Corodoba Court lawn service 090614.xlsx.gsheet'\n",
            "'Crear subrutina para creacion de grid.gdoc'\n",
            "'Curso_OG_en_Day 1.pptx'\n",
            " \u001b[01;34mCURSO_PERU\u001b[0m/\n",
            "'Datos de entrada'\n",
            " DESARROLLO.gdoc\n",
            "'displacement bc'\n",
            " DSC09906.JPG\n",
            " DSC09906.png\n",
            " EmotivGamePatch1_zip.gdoc\n",
            " EQM-KY07-02.doc.gdoc\n",
            "'Estimado Stefan corregido.doc.gdoc'\n",
            " File_001.png\n",
            " Geomechanics\n",
            "'Geomechanics with Python. Part 1.mp4'\n",
            " geo_mult.gdoc\n",
            "\u001b[01;34m'Google Buzz'\u001b[0m/\n",
            "'Hoy estoy trabajando en STOMP. Hace f....gdoc'\n",
            "'http:  www.sleekwire.com index.php?pa....gdoc'\n",
            "\"Imported from Google Notebook - Asperger's.gdoc\"\n",
            "'Imported from Google Notebook - Mobile notes.gdoc'\n",
            " input.xlsx\n",
            " input.xlsx.gsheet\n",
            " JanuaryTrainingInternalAcccounts.xlsx\n",
            "'jstock-fe78440e-e0fe-4efb-881d-264a01be483c-checksum=3499429789-date=1427415097216-version=1107.zip'\n",
            "'la 2a. entrega.docx'\n",
            "'la 2a. entrega.gdoc'\n",
            "'Marisela Sanchez.jpg'\n",
            " MatCreateSeqAIJWithArrays.gdoc\n",
            " \u001b[01;34mmoney-eq-meditation\u001b[0m/\n",
            "'My Saved Places.gmap'\n",
            " NI_APERDIDAporfavorreenvielo.gdoc\n",
            "'Notas Sant. LFH 5 de 7.pdf'\n",
            " \u001b[01;34mOpenSim_Alana\u001b[0m/\n",
            "'PALACIOS 6 Y 7.jpeg'\n",
            "'PCR-92-14, Water damage repairs 2512 Bevis St.pdf'\n",
            " poema.gdoc\n",
            "'Press Space or double-click to edit.mup'\n",
            "'PRIETO 3.jpeg'\n",
            " PROPUESTAS.gdoc\n",
            "'py3 in one pic.png'\n",
            " \u001b[01;34mpython_trainning\u001b[0m/\n",
            " \u001b[01;34mRecorderPlus\u001b[0m/\n",
            "'Reference Letter - Adolfo Rodriguez.doc.gdoc'\n",
            "'Resumen Curricular Ing F Rovira.gdoc'\n",
            "'SEGUNDA ENTREGA.docx'\n",
            "'SEGUNDA ENTREGA.gdoc'\n",
            "'seguro carros.gsheet'\n",
            " \u001b[01;34mTakeout\u001b[0m/\n",
            "'Tech_Presentation_Candidate_Brief v12.gdoc'\n",
            "'Untitled presentation.gslides'\n"
          ],
          "name": "stdout"
        }
      ]
    },
    {
      "cell_type": "code",
      "metadata": {
        "id": "liWZrbRZkrn9"
      },
      "source": [
        ""
      ],
      "execution_count": null,
      "outputs": []
    }
  ]
}