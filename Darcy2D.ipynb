{
  "nbformat": 4,
  "nbformat_minor": 0,
  "metadata": {
    "colab": {
      "name": "Darcy2D.ipynb",
      "provenance": [],
      "collapsed_sections": [],
      "authorship_tag": "ABX9TyN4oIT7EODYzdA5bnLqc0cL",
      "include_colab_link": true
    },
    "kernelspec": {
      "name": "python3",
      "display_name": "Python 3"
    },
    "language_info": {
      "name": "python"
    }
  },
  "cells": [
    {
      "cell_type": "markdown",
      "metadata": {
        "id": "view-in-github",
        "colab_type": "text"
      },
      "source": [
        "<a href=\"https://colab.research.google.com/github/adantra/ML_Stocks/blob/master/Darcy2D.ipynb\" target=\"_parent\"><img src=\"https://colab.research.google.com/assets/colab-badge.svg\" alt=\"Open In Colab\"/></a>"
      ]
    },
    {
      "cell_type": "code",
      "metadata": {
        "colab": {
          "base_uri": "https://localhost:8080/"
        },
        "id": "49OBlKX_2X0p",
        "outputId": "86a3377c-afc0-4e3c-a21a-65cae21f7338"
      },
      "source": [
        "!pip install nangs"
      ],
      "execution_count": 1,
      "outputs": [
        {
          "output_type": "stream",
          "text": [
            "Collecting nangs\n",
            "  Downloading https://files.pythonhosted.org/packages/4c/cd/7eeca93e6088a85d18ff99897743aaf429c94c12049e56f2a1e8b2091656/nangs-0.1.2-py3-none-any.whl\n",
            "Installing collected packages: nangs\n",
            "Successfully installed nangs-0.1.2\n"
          ],
          "name": "stdout"
        }
      ]
    },
    {
      "cell_type": "code",
      "metadata": {
        "id": "LyXPy8I92Z7g"
      },
      "source": [
        "# autoreload nangs\n",
        "%reload_ext autoreload\n",
        "%autoreload 2\n",
        "%matplotlib inline"
      ],
      "execution_count": 2,
      "outputs": []
    },
    {
      "cell_type": "code",
      "metadata": {
        "colab": {
          "base_uri": "https://localhost:8080/"
        },
        "id": "2tc_1Iyo2lV-",
        "outputId": "1852c0b1-28fb-4289-cc22-82bd0e1f584b"
      },
      "source": [
        "#imports\n",
        "\n",
        "import numpy as np \n",
        "import matplotlib.pyplot as plt \n",
        "import torch\n",
        "import pandas as pd\n",
        "import nangs\n",
        "from nangs import *\n",
        "\n",
        "device = \"cuda\" if torch.cuda.is_available() else \"cpu\"\n",
        "\n",
        "nangs.__version__, torch.__version__"
      ],
      "execution_count": 3,
      "outputs": [
        {
          "output_type": "execute_result",
          "data": {
            "text/plain": [
              "('0.1.2', '1.9.0+cu102')"
            ]
          },
          "metadata": {
            "tags": []
          },
          "execution_count": 3
        }
      ]
    },
    {
      "cell_type": "code",
      "metadata": {
        "colab": {
          "base_uri": "https://localhost:8080/",
          "height": 37
        },
        "id": "rTta38DB2obV",
        "outputId": "417e55a9-390d-4eb0-c0ef-15f1d26e1a1c"
      },
      "source": [
        "device\n"
      ],
      "execution_count": 4,
      "outputs": [
        {
          "output_type": "execute_result",
          "data": {
            "application/vnd.google.colaboratory.intrinsic+json": {
              "type": "string"
            },
            "text/plain": [
              "'cpu'"
            ]
          },
          "metadata": {
            "tags": []
          },
          "execution_count": 4
        }
      ]
    },
    {
      "cell_type": "code",
      "metadata": {
        "id": "W55VlZAO2vcY"
      },
      "source": [
        "alpha=0.0\n",
        "class Difussion2d(PDE):\n",
        "    def computePDELoss(self, inputs, outputs):\n",
        "        p = outputs[:, 0]\n",
        "        grads = self.computeGrads(p, inputs)\n",
        "        dpdx, dpdy = grads[:, 0], grads[:, 1]\n",
        "        x=inputs[:,1]\n",
        "        # second order derivatives        \n",
        "        dp2dx2 = self.computeGrads(dpdx, inputs)[:, 0] \n",
        "        dp2dy2 = self.computeGrads(dpdy, inputs)[:, 1]\n",
        "        return {'loss':alpha - (dp2dx2 + dp2dy2)}"
      ],
      "execution_count": 5,
      "outputs": []
    },
    {
      "cell_type": "code",
      "metadata": {
        "id": "Wuq89V6s3dOX"
      },
      "source": [
        "class NeumannX(Neumann):\n",
        "    def computeBocoLoss(self, inputs, outputs):\n",
        "        p = outputs[:, 0]\n",
        "        grads = self.computeGrads(p, inputs)\n",
        "        dpdx = grads[:, 0]\n",
        "        return {'gradX': dpdx}"
      ],
      "execution_count": 6,
      "outputs": []
    },
    {
      "cell_type": "code",
      "metadata": {
        "id": "nVKfDt6S3hGV"
      },
      "source": [
        "class NeumannY(Neumann):\n",
        "    def computeBocoLoss(self, inputs, outputs):\n",
        "        p = outputs[:, 0]\n",
        "        grads = self.computeGrads(p, inputs)\n",
        "        dpdy = grads[:, 1]\n",
        "        return {'gradX': dpdy}"
      ],
      "execution_count": 7,
      "outputs": []
    },
    {
      "cell_type": "code",
      "metadata": {
        "id": "IturBEIS3jyj"
      },
      "source": [
        "pde = Difussion2d(inputs=('x', 'y'), outputs='p')"
      ],
      "execution_count": 8,
      "outputs": []
    },
    {
      "cell_type": "code",
      "metadata": {
        "id": "v6s9koba3mHJ"
      },
      "source": [
        "# mesh \n",
        "\n",
        "x = np.linspace(0,1,100)\n",
        "y = np.linspace(0,1,100)\n",
        "t = np.linspace(0,1,20)\n",
        "\n",
        "mesh = Mesh({'x': x, 'y': y}, device=device)\n",
        "pde.set_mesh(mesh)"
      ],
      "execution_count": 9,
      "outputs": []
    },
    {
      "cell_type": "code",
      "metadata": {
        "id": "OkCZuKCO3o1C"
      },
      "source": [
        "from nangs import Dirichlet"
      ],
      "execution_count": 10,
      "outputs": []
    },
    {
      "cell_type": "code",
      "metadata": {
        "id": "FNI7VwAX3tN2"
      },
      "source": [
        "t0 = np.array([0])"
      ],
      "execution_count": 11,
      "outputs": []
    },
    {
      "cell_type": "code",
      "metadata": {
        "id": "kP0TCEoD3veq"
      },
      "source": [
        "_x, _y = np.meshgrid(x, y)\n",
        "p0 = np.sin(2*np.pi*_x)*np.sin(2*np.pi*_y)"
      ],
      "execution_count": 12,
      "outputs": []
    },
    {
      "cell_type": "code",
      "metadata": {
        "id": "1h1r1FFh9TXV"
      },
      "source": [
        "p0=np.zeros((100,100))\n",
        "p0[:]=0\n",
        "#p0[47:53,47:53]=1"
      ],
      "execution_count": 13,
      "outputs": []
    },
    {
      "cell_type": "code",
      "metadata": {
        "colab": {
          "base_uri": "https://localhost:8080/",
          "height": 248
        },
        "id": "t5gEEWsX9VdN",
        "outputId": "8a6d685d-2851-4c04-ba79-515497fc53f2"
      },
      "source": [
        "from mpl_toolkits.mplot3d import Axes3D\n",
        "import matplotlib.pyplot as plt\n",
        "from matplotlib import cm\n",
        "fig = plt.figure()\n",
        "ax = fig.gca(projection='3d')\n",
        "surf = ax.plot_surface(_x, _y, p0.reshape((_y.shape[0],_x.shape[1])), cmap=cm.coolwarm, linewidth=0, antialiased=False)\n",
        "fig.colorbar(surf, shrink=0.5, aspect=5)\n",
        "plt.show()"
      ],
      "execution_count": 14,
      "outputs": [
        {
          "output_type": "display_data",
          "data": {
            "image/png": "[encoded data removed]",
            "text/plain": [
              "<Figure size 432x288 with 2 Axes>"
            ]
          },
          "metadata": {
            "tags": [],
            "needs_background": "light"
          }
        }
      ]
    },
    {
      "cell_type": "code",
      "metadata": {
        "id": "8pM3FPKv3yMj"
      },
      "source": [
        "#initial_condition = Dirichlet({'x': x, 'y': y}, {'p': p0.reshape(-1)}, device=device, name=\"initial\")"
      ],
      "execution_count": 15,
      "outputs": []
    },
    {
      "cell_type": "code",
      "metadata": {
        "id": "OXFa0Hpi30nP"
      },
      "source": [
        "#pde.add_boco(initial_condition)\n",
        "p0=np.ones(len(y))\n",
        "p1=np.zeros(len(y))"
      ],
      "execution_count": 16,
      "outputs": []
    },
    {
      "cell_type": "code",
      "metadata": {
        "id": "Hi6Telpj32z3"
      },
      "source": [
        "#left = NeumannX({'x': np.array([0]), 'y': y, 't':t}, name='left', device=device)\n",
        "left = Dirichlet({'x': x[0], 'y': y}, {'p': p0.reshape(-1)}, device=device, name=\"left\")"
      ],
      "execution_count": 17,
      "outputs": []
    },
    {
      "cell_type": "code",
      "metadata": {
        "id": "i-gJ-qWG35HC"
      },
      "source": [
        "pde.add_boco(left)"
      ],
      "execution_count": 18,
      "outputs": []
    },
    {
      "cell_type": "code",
      "metadata": {
        "id": "P9dMp4We38-y"
      },
      "source": [
        "#right = NeumannX({'x': np.array([1]), 'y': y, 't':t}, name='right', device=device)\n",
        "right = Dirichlet({'x': x[-1], 'y': y}, {'p': p1.reshape(-1)}, device=device, name=\"right\")"
      ],
      "execution_count": 19,
      "outputs": []
    },
    {
      "cell_type": "code",
      "metadata": {
        "id": "-zK0NPGN3_Pm"
      },
      "source": [
        "pde.add_boco(right)"
      ],
      "execution_count": 20,
      "outputs": []
    },
    {
      "cell_type": "code",
      "metadata": {
        "id": "QgJBWxEX4Dqu"
      },
      "source": [
        "\n",
        "top = NeumannY({'x': x, 'y': y[-1]}, name='top', device=device)"
      ],
      "execution_count": 21,
      "outputs": []
    },
    {
      "cell_type": "code",
      "metadata": {
        "id": "TI8EHmmt4GSw"
      },
      "source": [
        "pde.add_boco(top)"
      ],
      "execution_count": 22,
      "outputs": []
    },
    {
      "cell_type": "code",
      "metadata": {
        "id": "lpcpSYAF4I4t"
      },
      "source": [
        "bottom = NeumannY({'x': x, 'y': y[-1]}, name='bottom', device=device)"
      ],
      "execution_count": 23,
      "outputs": []
    },
    {
      "cell_type": "code",
      "metadata": {
        "id": "WfDK9vIy4LG9"
      },
      "source": [
        "pde.add_boco(bottom)"
      ],
      "execution_count": 24,
      "outputs": []
    },
    {
      "cell_type": "code",
      "metadata": {
        "id": "_Zf3hbzK4NSo"
      },
      "source": [
        "from nangs import MLP\n",
        "\n",
        "BATCH_SIZE = 512\n",
        "LR = 1e-2\n",
        "EPOCHS = 15\n",
        "NUM_LAYERS = 2\n",
        "NUM_HIDDEN = 3*50\n",
        "\n",
        "mlp = MLP(len(pde.inputs), len(pde.outputs), NUM_LAYERS, NUM_HIDDEN).to(device)\n",
        "optimizer = torch.optim.Adam(mlp.parameters())\n",
        "scheduler = torch.optim.lr_scheduler.OneCycleLR(optimizer, max_lr=LR, pct_start=0.1, total_steps=EPOCHS)"
      ],
      "execution_count": 111,
      "outputs": []
    },
    {
      "cell_type": "code",
      "metadata": {
        "id": "nmlVwfsY4Qpj"
      },
      "source": [
        "pde.compile(mlp, optimizer, scheduler)"
      ],
      "execution_count": 112,
      "outputs": []
    },
    {
      "cell_type": "code",
      "metadata": {
        "colab": {
          "base_uri": "https://localhost:8080/",
          "height": 396
        },
        "id": "4HdLw0uL4TA9",
        "outputId": "15b98007-ffdf-423d-f4c4-5fd2f5d7f239"
      },
      "source": [
        "%time hist = pde.solve(EPOCHS, BATCH_SIZE)"
      ],
      "execution_count": 113,
      "outputs": [
        {
          "output_type": "display_data",
          "data": {
            "text/html": [
              "Epoch 1/15  | lr 0.0004 | left 0.12432 | right 0.05631 | top_gradX 0.00458 | bottom_gradX 0.00458 | loss 0.03501<p>Epoch 2/15  | lr 0.00997 | left 0.08534 | right 0.10769 | top_gradX 0.00877 | bottom_gradX 0.00877 | loss 0.03717<p>Epoch 3/15  | lr 0.0097 | left 0.00195 | right 0.00087 | top_gradX 0.00038 | bottom_gradX 0.00038 | loss 0.00555<p>Epoch 4/15  | lr 0.00918 | left 4e-05 | right 0.00012 | top_gradX 6e-05 | bottom_gradX 6e-05 | loss 0.00018<p>Epoch 5/15  | lr 0.00843 | left 0.0 | right 0.0 | top_gradX 0.0 | bottom_gradX 0.0 | loss 7e-05<p>Epoch 6/15  | lr 0.0075 | left 0.0 | right 0.0 | top_gradX 0.0 | bottom_gradX 0.0 | loss 6e-05<p>Epoch 7/15  | lr 0.00643 | left 0.0 | right 0.0 | top_gradX 0.0 | bottom_gradX 0.0 | loss 6e-05<p>Epoch 8/15  | lr 0.00529 | left 0.0 | right 0.0 | top_gradX 0.0 | bottom_gradX 0.0 | loss 6e-05<p>Epoch 9/15  | lr 0.00413 | left 0.0 | right 0.0 | top_gradX 0.0 | bottom_gradX 0.0 | loss 6e-05<p>Epoch 10/15  | lr 0.00302 | left 0.0 | right 0.0 | top_gradX 0.0 | bottom_gradX 0.0 | loss 5e-05<p>Epoch 11/15  | lr 0.00201 | left 0.0 | right 0.0 | top_gradX 0.0 | bottom_gradX 0.0 | loss 5e-05<p>Epoch 12/15  | lr 0.00117 | left 0.0 | right 0.0 | top_gradX 0.0 | bottom_gradX 0.0 | loss 5e-05<p>Epoch 13/15  | lr 0.00053 | left 0.0 | right 0.0 | top_gradX 0.0 | bottom_gradX 0.0 | loss 5e-05<p>Epoch 14/15  | lr 0.00013 | left 0.0 | right 0.0 | top_gradX 0.0 | bottom_gradX 0.0 | loss 5e-05<p>Epoch 15/15  | lr 0.0 | left 0.0 | right 0.0 | top_gradX 0.0 | bottom_gradX 0.0 | loss 5e-05"
            ],
            "text/plain": [
              "<IPython.core.display.HTML object>"
            ]
          },
          "metadata": {
            "tags": []
          }
        },
        {
          "output_type": "stream",
          "text": [
            "CPU times: user 8.7 s, sys: 434 ms, total: 9.13 s\n",
            "Wall time: 9.1 s\n"
          ],
          "name": "stdout"
        }
      ]
    },
    {
      "cell_type": "code",
      "metadata": {
        "id": "6pWQeuc14V_9"
      },
      "source": [
        "t = 0.01\n",
        "x = np.linspace(0,1,100)\n",
        "y = np.linspace(0,1,100)\n",
        "\n",
        "_x, _y = np.meshgrid(x, y)"
      ],
      "execution_count": 114,
      "outputs": []
    },
    {
      "cell_type": "code",
      "metadata": {
        "id": "ycJ8qxzpGTBF"
      },
      "source": [
        "eval_mesh = Mesh({'x': x, 'y': y}, device=device)\n",
        "p = pde.eval(eval_mesh)\n",
        "p = p.cpu().numpy()"
      ],
      "execution_count": 115,
      "outputs": []
    },
    {
      "cell_type": "code",
      "metadata": {
        "colab": {
          "base_uri": "https://localhost:8080/"
        },
        "id": "iqZRyVU6GaYA",
        "outputId": "198757ef-3001-4d05-acbe-d78471093eb6"
      },
      "source": [
        "p.shape"
      ],
      "execution_count": 116,
      "outputs": [
        {
          "output_type": "execute_result",
          "data": {
            "text/plain": [
              "(10000, 1)"
            ]
          },
          "metadata": {
            "tags": []
          },
          "execution_count": 116
        }
      ]
    },
    {
      "cell_type": "code",
      "metadata": {
        "colab": {
          "base_uri": "https://localhost:8080/",
          "height": 248
        },
        "id": "qV3ksfWtGrl1",
        "outputId": "79db0719-a67f-4cb0-b3cf-9b1b99711d08"
      },
      "source": [
        "from mpl_toolkits.mplot3d import Axes3D\n",
        "import matplotlib.pyplot as plt\n",
        "from matplotlib import cm\n",
        "fig = plt.figure()\n",
        "ax = fig.gca(projection='3d')\n",
        "surf = ax.plot_surface(_x, _y, p.reshape((_y.shape[0],_x.shape[1])), cmap=cm.coolwarm, linewidth=0, antialiased=False)\n",
        "fig.colorbar(surf, shrink=0.5, aspect=5)\n",
        "plt.show()"
      ],
      "execution_count": 117,
      "outputs": [
        {
          "output_type": "display_data",
          "data": {
            "image/png": "[encoded data removed]",
            "text/plain": [
              "<Figure size 432x288 with 2 Axes>"
            ]
          },
          "metadata": {
            "tags": [],
            "needs_background": "light"
          }
        }
      ]
    },
    {
      "cell_type": "code",
      "metadata": {
        "id": "_mCNFVK_GwzT"
      },
      "source": [
        "p1=p.reshape((_y.shape[0],_x.shape[1]))"
      ],
      "execution_count": 118,
      "outputs": []
    },
    {
      "cell_type": "code",
      "metadata": {
        "colab": {
          "base_uri": "https://localhost:8080/",
          "height": 282
        },
        "id": "2Kc3vAeJlg36",
        "outputId": "9cd741b6-2879-4543-b945-f8aec53c8a1e"
      },
      "source": [
        "plt.plot(p1[0])\n",
        "plt.plot(p1[1])\n",
        "plt.plot(p1[2])\n",
        "plt.plot(p1[3])\n",
        "plt.plot(p1[4])\n",
        "plt.plot(p1[-1])\n",
        "plt.plot(p1[-2])\n",
        "plt.plot(p1[-3])\n",
        "plt.plot(p1[-4])"
      ],
      "execution_count": 119,
      "outputs": [
        {
          "output_type": "execute_result",
          "data": {
            "text/plain": [
              "[<matplotlib.lines.Line2D at 0x7f0a684ac110>]"
            ]
          },
          "metadata": {
            "tags": []
          },
          "execution_count": 119
        },
        {
          "output_type": "display_data",
          "data": {
            "image/png": "[encoded data removed]",
            "text/plain": [
              "<Figure size 432x288 with 1 Axes>"
            ]
          },
          "metadata": {
            "tags": [],
            "needs_background": "light"
          }
        }
      ]
    },
    {
      "cell_type": "code",
      "metadata": {
        "id": "nAtZaCnjKUUE"
      },
      "source": [
        "from google.colab import drive"
      ],
      "execution_count": null,
      "outputs": []
    },
    {
      "cell_type": "code",
      "metadata": {
        "colab": {
          "base_uri": "https://localhost:8080/"
        },
        "id": "ndK4ByIOkQbP",
        "outputId": "3cedf279-1545-469f-8a6b-e86eabb0ebca"
      },
      "source": [
        "drive.mount('/content/gdrive')"
      ],
      "execution_count": null,
      "outputs": [
        {
          "output_type": "stream",
          "text": [
            "Mounted at /content/gdrive\n"
          ],
          "name": "stdout"
        }
      ]
    },
    {
      "cell_type": "code",
      "metadata": {
        "colab": {
          "base_uri": "https://localhost:8080/"
        },
        "id": "11dIrHGCkUyY",
        "outputId": "be8d5e44-f50f-426c-da11-6e1ecec3f4b1"
      },
      "source": [
        "ls '/content/gdrive/MyDrive'"
      ],
      "execution_count": null,
      "outputs": [
        {
          "output_type": "stream",
          "text": [
            "'070201 EQM-KY7-002 s.doc.gdoc'\n",
            " 08272013-02272014.pdf\n",
            " Agenda08_30_final.gdoc\n",
            "'Alan Aug 2008 Flyer.gdoc'\n",
            " Analysis\n",
            "\u001b[0m\u001b[01;34m'Awesome Note'\u001b[0m/\n",
            " azcopy\n",
            "'Boarding Pass - Check-in _ Spirit Airlines.pdf'\n",
            " carta.gdoc\n",
            " cartas.gdoc\n",
            "\u001b[01;34m'Clase 2'\u001b[0m/\n",
            " \u001b[01;34mClassroom\u001b[0m/\n",
            " cluster.pdf\n",
            "\u001b[01;34m'Colab Notebooks'\u001b[0m/\n",
            "'Comp3 KY6 ProjectProg_Aug07.gdoc'\n",
            "'Comp3 KY7 ProjectProg_Aug07.gdoc'\n",
            " Comp3ProjectProg_Feb07.doc.gdoc\n",
            " Comp3ProjectProg_June07.gdoc\n",
            " Conferencia1.xlsx\n",
            "'Corodoba Court lawn service 090614.xlsx'\n",
            "'Corodoba Court lawn service 090614.xlsx.gsheet'\n",
            "'Crear subrutina para creacion de grid.gdoc'\n",
            "'Curso_OG_en_Day 1.pptx'\n",
            " \u001b[01;34mCURSO_PERU\u001b[0m/\n",
            "'Datos de entrada'\n",
            " DESARROLLO.gdoc\n",
            "'displacement bc'\n",
            " DSC09906.JPG\n",
            " DSC09906.png\n",
            " EmotivGamePatch1_zip.gdoc\n",
            " EQM-KY07-02.doc.gdoc\n",
            "'Estimado Stefan corregido.doc.gdoc'\n",
            " File_001.png\n",
            " Geomechanics\n",
            "'Geomechanics with Python. Part 1.mp4'\n",
            " geo_mult.gdoc\n",
            "\u001b[01;34m'Google Buzz'\u001b[0m/\n",
            "'Hoy estoy trabajando en STOMP. Hace f....gdoc'\n",
            "'http:  www.sleekwire.com index.php?pa....gdoc'\n",
            "\"Imported from Google Notebook - Asperger's.gdoc\"\n",
            "'Imported from Google Notebook - Mobile notes.gdoc'\n",
            " input.xlsx\n",
            " input.xlsx.gsheet\n",
            " JanuaryTrainingInternalAcccounts.xlsx\n",
            "'jstock-fe78440e-e0fe-4efb-881d-264a01be483c-checksum=3499429789-date=1427415097216-version=1107.zip'\n",
            "'la 2a. entrega.docx'\n",
            "'la 2a. entrega.gdoc'\n",
            "'Marisela Sanchez.jpg'\n",
            " MatCreateSeqAIJWithArrays.gdoc\n",
            " \u001b[01;34mmoney-eq-meditation\u001b[0m/\n",
            "'My Saved Places.gmap'\n",
            " NI_APERDIDAporfavorreenvielo.gdoc\n",
            "'Notas Sant. LFH 5 de 7.pdf'\n",
            " \u001b[01;34mOpenSim_Alana\u001b[0m/\n",
            "'PALACIOS 6 Y 7.jpeg'\n",
            "'PCR-92-14, Water damage repairs 2512 Bevis St.pdf'\n",
            " poema.gdoc\n",
            "'Press Space or double-click to edit.mup'\n",
            "'PRIETO 3.jpeg'\n",
            " PROPUESTAS.gdoc\n",
            "'py3 in one pic.png'\n",
            " \u001b[01;34mpython_trainning\u001b[0m/\n",
            " \u001b[01;34mRecorderPlus\u001b[0m/\n",
            "'Reference Letter - Adolfo Rodriguez.doc.gdoc'\n",
            "'Resumen Curricular Ing F Rovira.gdoc'\n",
            "'SEGUNDA ENTREGA.docx'\n",
            "'SEGUNDA ENTREGA.gdoc'\n",
            "'seguro carros.gsheet'\n",
            " \u001b[01;34mTakeout\u001b[0m/\n",
            "'Tech_Presentation_Candidate_Brief v12.gdoc'\n",
            "'Untitled presentation.gslides'\n"
          ],
          "name": "stdout"
        }
      ]
    },
    {
      "cell_type": "code",
      "metadata": {
        "id": "liWZrbRZkrn9"
      },
      "source": [
        ""
      ],
      "execution_count": null,
      "outputs": []
    }
  ]
}