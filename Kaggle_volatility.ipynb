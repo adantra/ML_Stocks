{
  "nbformat": 4,
  "nbformat_minor": 0,
  "metadata": {
    "colab": {
      "name": "Kaggle_volatility.ipynb",
      "provenance": [],
      "collapsed_sections": [],
      "machine_shape": "hm",
      "authorship_tag": "ABX9TyPZ83c6kJFulQQ2wHAkhgW8",
      "include_colab_link": true
    },
    "kernelspec": {
      "name": "python3",
      "display_name": "Python 3"
    },
    "language_info": {
      "name": "python"
    }
  },
  "cells": [
    {
      "cell_type": "markdown",
      "metadata": {
        "id": "view-in-github",
        "colab_type": "text"
      },
      "source": [
        "<a href=\"https://colab.research.google.com/github/adantra/ML_Stocks/blob/master/Kaggle_volatility.ipynb\" target=\"_parent\"><img src=\"https://colab.research.google.com/assets/colab-badge.svg\" alt=\"Open In Colab\"/></a>"
      ]
    },
    {
      "cell_type": "code",
      "metadata": {
        "colab": {
          "base_uri": "https://localhost:8080/"
        },
        "id": "dF_jR4eQorUu",
        "outputId": "03ca7b2c-c8c7-4382-db79-db5321c57dc7"
      },
      "source": [
        "!pip install -Uqq fastbook\n",
        "import fastbook\n",
        "fastbook.setup_book()"
      ],
      "execution_count": 1,
      "outputs": [
        {
          "output_type": "stream",
          "text": [
            "\u001b[K     |████████████████████████████████| 727kB 5.3MB/s \n",
            "\u001b[K     |████████████████████████████████| 194kB 46.9MB/s \n",
            "\u001b[K     |████████████████████████████████| 51kB 4.9MB/s \n",
            "\u001b[K     |████████████████████████████████| 1.2MB 36.6MB/s \n",
            "\u001b[K     |████████████████████████████████| 61kB 7.2MB/s \n",
            "\u001b[K     |████████████████████████████████| 61kB 8.6MB/s \n",
            "\u001b[?25hMounted at /content/gdrive\n"
          ],
          "name": "stdout"
        }
      ]
    },
    {
      "cell_type": "code",
      "metadata": {
        "id": "HYBh9EWXosTe"
      },
      "source": [
        "import pandas as pd"
      ],
      "execution_count": 2,
      "outputs": []
    },
    {
      "cell_type": "code",
      "metadata": {
        "id": "Tl0zjbsFo-fV"
      },
      "source": [
        "book_train = pd.read_parquet('/content/gdrive/MyDrive/optiver-realized-volatility-prediction/book_train.parquet')"
      ],
      "execution_count": 3,
      "outputs": []
    },
    {
      "cell_type": "code",
      "metadata": {
        "colab": {
          "base_uri": "https://localhost:8080/"
        },
        "id": "V68nT5F7pOtE",
        "outputId": "aa3318f7-440b-4110-9725-ffe0a706c4d6"
      },
      "source": [
        "book_train.info()"
      ],
      "execution_count": 4,
      "outputs": [
        {
          "output_type": "stream",
          "text": [
            "<class 'pandas.core.frame.DataFrame'>\n",
            "RangeIndex: 167253289 entries, 0 to 167253288\n",
            "Data columns (total 11 columns):\n",
            " #   Column             Dtype   \n",
            "---  ------             -----   \n",
            " 0   time_id            int16   \n",
            " 1   seconds_in_bucket  int16   \n",
            " 2   bid_price1         float32 \n",
            " 3   ask_price1         float32 \n",
            " 4   bid_price2         float32 \n",
            " 5   ask_price2         float32 \n",
            " 6   bid_size1          int32   \n",
            " 7   ask_size1          int32   \n",
            " 8   bid_size2          int32   \n",
            " 9   ask_size2          int32   \n",
            " 10  stock_id           category\n",
            "dtypes: category(1), float32(4), int16(2), int32(4)\n",
            "memory usage: 5.8 GB\n"
          ],
          "name": "stdout"
        }
      ]
    },
    {
      "cell_type": "code",
      "metadata": {
        "colab": {
          "base_uri": "https://localhost:8080/",
          "height": 204
        },
        "id": "3V83ZJ-WpaOP",
        "outputId": "fffbe47d-716d-4064-a092-559e8a98d057"
      },
      "source": [
        "book_train.head()"
      ],
      "execution_count": 6,
      "outputs": [
        {
          "output_type": "execute_result",
          "data": {
            "text/html": [
              "<div>\n",
              "<style scoped>\n",
              "    .dataframe tbody tr th:only-of-type {\n",
              "        vertical-align: middle;\n",
              "    }\n",
              "\n",
              "    .dataframe tbody tr th {\n",
              "        vertical-align: top;\n",
              "    }\n",
              "\n",
              "    .dataframe thead th {\n",
              "        text-align: right;\n",
              "    }\n",
              "</style>\n",
              "<table border=\"1\" class=\"dataframe\">\n",
              "  <thead>\n",
              "    <tr style=\"text-align: right;\">\n",
              "      <th></th>\n",
              "      <th>time_id</th>\n",
              "      <th>seconds_in_bucket</th>\n",
              "      <th>bid_price1</th>\n",
              "      <th>ask_price1</th>\n",
              "      <th>bid_price2</th>\n",
              "      <th>ask_price2</th>\n",
              "      <th>bid_size1</th>\n",
              "      <th>ask_size1</th>\n",
              "      <th>bid_size2</th>\n",
              "      <th>ask_size2</th>\n",
              "      <th>stock_id</th>\n",
              "    </tr>\n",
              "  </thead>\n",
              "  <tbody>\n",
              "    <tr>\n",
              "      <th>0</th>\n",
              "      <td>5</td>\n",
              "      <td>0</td>\n",
              "      <td>1.001422</td>\n",
              "      <td>1.002301</td>\n",
              "      <td>1.00137</td>\n",
              "      <td>1.002353</td>\n",
              "      <td>3</td>\n",
              "      <td>226</td>\n",
              "      <td>2</td>\n",
              "      <td>100</td>\n",
              "      <td>0</td>\n",
              "    </tr>\n",
              "    <tr>\n",
              "      <th>1</th>\n",
              "      <td>5</td>\n",
              "      <td>1</td>\n",
              "      <td>1.001422</td>\n",
              "      <td>1.002301</td>\n",
              "      <td>1.00137</td>\n",
              "      <td>1.002353</td>\n",
              "      <td>3</td>\n",
              "      <td>100</td>\n",
              "      <td>2</td>\n",
              "      <td>100</td>\n",
              "      <td>0</td>\n",
              "    </tr>\n",
              "    <tr>\n",
              "      <th>2</th>\n",
              "      <td>5</td>\n",
              "      <td>5</td>\n",
              "      <td>1.001422</td>\n",
              "      <td>1.002301</td>\n",
              "      <td>1.00137</td>\n",
              "      <td>1.002405</td>\n",
              "      <td>3</td>\n",
              "      <td>100</td>\n",
              "      <td>2</td>\n",
              "      <td>100</td>\n",
              "      <td>0</td>\n",
              "    </tr>\n",
              "    <tr>\n",
              "      <th>3</th>\n",
              "      <td>5</td>\n",
              "      <td>6</td>\n",
              "      <td>1.001422</td>\n",
              "      <td>1.002301</td>\n",
              "      <td>1.00137</td>\n",
              "      <td>1.002405</td>\n",
              "      <td>3</td>\n",
              "      <td>126</td>\n",
              "      <td>2</td>\n",
              "      <td>100</td>\n",
              "      <td>0</td>\n",
              "    </tr>\n",
              "    <tr>\n",
              "      <th>4</th>\n",
              "      <td>5</td>\n",
              "      <td>7</td>\n",
              "      <td>1.001422</td>\n",
              "      <td>1.002301</td>\n",
              "      <td>1.00137</td>\n",
              "      <td>1.002405</td>\n",
              "      <td>3</td>\n",
              "      <td>126</td>\n",
              "      <td>2</td>\n",
              "      <td>100</td>\n",
              "      <td>0</td>\n",
              "    </tr>\n",
              "  </tbody>\n",
              "</table>\n",
              "</div>"
            ],
            "text/plain": [
              "   time_id  seconds_in_bucket  bid_price1  ask_price1  bid_price2  ask_price2  \\\n",
              "0        5                  0    1.001422    1.002301     1.00137    1.002353   \n",
              "1        5                  1    1.001422    1.002301     1.00137    1.002353   \n",
              "2        5                  5    1.001422    1.002301     1.00137    1.002405   \n",
              "3        5                  6    1.001422    1.002301     1.00137    1.002405   \n",
              "4        5                  7    1.001422    1.002301     1.00137    1.002405   \n",
              "\n",
              "   bid_size1  ask_size1  bid_size2  ask_size2 stock_id  \n",
              "0          3        226          2        100        0  \n",
              "1          3        100          2        100        0  \n",
              "2          3        100          2        100        0  \n",
              "3          3        126          2        100        0  \n",
              "4          3        126          2        100        0  "
            ]
          },
          "metadata": {
            "tags": []
          },
          "execution_count": 6
        }
      ]
    },
    {
      "cell_type": "code",
      "metadata": {
        "colab": {
          "base_uri": "https://localhost:8080/"
        },
        "id": "Az3q243RpdHd",
        "outputId": "994fee0b-74aa-444c-b6d7-03d36f12f90a"
      },
      "source": [
        "! ls /content/gdrive/MyDrive/optiver-realized-volatility-prediction/book_train.parquet | head -n 5"
      ],
      "execution_count": 7,
      "outputs": [
        {
          "output_type": "stream",
          "text": [
            "stock_id=0\n",
            "stock_id=1\n",
            "stock_id=10\n",
            "stock_id=100\n",
            "stock_id=101\n"
          ],
          "name": "stdout"
        }
      ]
    },
    {
      "cell_type": "code",
      "metadata": {
        "colab": {
          "base_uri": "https://localhost:8080/"
        },
        "id": "Znq0ivgfprS6",
        "outputId": "0dfb0aa6-448e-4fc0-e7de-11759bb42b4d"
      },
      "source": [
        "! ls /content/gdrive/MyDrive/optiver-realized-volatility-prediction/book_train.parquet/stock_id=0/"
      ],
      "execution_count": 8,
      "outputs": [
        {
          "output_type": "stream",
          "text": [
            "c439ef22282f412ba39e9137a3fdabac.parquet\n"
          ],
          "name": "stdout"
        }
      ]
    },
    {
      "cell_type": "code",
      "metadata": {
        "colab": {
          "base_uri": "https://localhost:8080/"
        },
        "id": "o7gqgoSfqGFV",
        "outputId": "7129919a-d12b-4589-f57a-d4799c0bf646"
      },
      "source": [
        "book_train_0 = pd.read_parquet('/content/gdrive/MyDrive/optiver-realized-volatility-prediction/book_train.parquet/stock_id=0/c439ef22282f412ba39e9137a3fdabac.parquet')\n",
        "book_train_0.info()"
      ],
      "execution_count": 9,
      "outputs": [
        {
          "output_type": "stream",
          "text": [
            "<class 'pandas.core.frame.DataFrame'>\n",
            "RangeIndex: 917553 entries, 0 to 917552\n",
            "Data columns (total 10 columns):\n",
            " #   Column             Non-Null Count   Dtype  \n",
            "---  ------             --------------   -----  \n",
            " 0   time_id            917553 non-null  int16  \n",
            " 1   seconds_in_bucket  917553 non-null  int16  \n",
            " 2   bid_price1         917553 non-null  float32\n",
            " 3   ask_price1         917553 non-null  float32\n",
            " 4   bid_price2         917553 non-null  float32\n",
            " 5   ask_price2         917553 non-null  float32\n",
            " 6   bid_size1          917553 non-null  int32  \n",
            " 7   ask_size1          917553 non-null  int32  \n",
            " 8   bid_size2          917553 non-null  int32  \n",
            " 9   ask_size2          917553 non-null  int32  \n",
            "dtypes: float32(4), int16(2), int32(4)\n",
            "memory usage: 31.5 MB\n"
          ],
          "name": "stdout"
        }
      ]
    },
    {
      "cell_type": "code",
      "metadata": {
        "id": "uIcVXRlxZIF7"
      },
      "source": [
        "book_train_00 = book_train[book_train['stock_id']==0]"
      ],
      "execution_count": 11,
      "outputs": []
    },
    {
      "cell_type": "code",
      "metadata": {
        "colab": {
          "base_uri": "https://localhost:8080/",
          "height": 204
        },
        "id": "0VjCh6uGZdnj",
        "outputId": "b3d1ccaa-0cd4-4644-a036-3a3456a86666"
      },
      "source": [
        "book_train_00.head()"
      ],
      "execution_count": 12,
      "outputs": [
        {
          "output_type": "execute_result",
          "data": {
            "text/html": [
              "<div>\n",
              "<style scoped>\n",
              "    .dataframe tbody tr th:only-of-type {\n",
              "        vertical-align: middle;\n",
              "    }\n",
              "\n",
              "    .dataframe tbody tr th {\n",
              "        vertical-align: top;\n",
              "    }\n",
              "\n",
              "    .dataframe thead th {\n",
              "        text-align: right;\n",
              "    }\n",
              "</style>\n",
              "<table border=\"1\" class=\"dataframe\">\n",
              "  <thead>\n",
              "    <tr style=\"text-align: right;\">\n",
              "      <th></th>\n",
              "      <th>time_id</th>\n",
              "      <th>seconds_in_bucket</th>\n",
              "      <th>bid_price1</th>\n",
              "      <th>ask_price1</th>\n",
              "      <th>bid_price2</th>\n",
              "      <th>ask_price2</th>\n",
              "      <th>bid_size1</th>\n",
              "      <th>ask_size1</th>\n",
              "      <th>bid_size2</th>\n",
              "      <th>ask_size2</th>\n",
              "      <th>stock_id</th>\n",
              "    </tr>\n",
              "  </thead>\n",
              "  <tbody>\n",
              "    <tr>\n",
              "      <th>0</th>\n",
              "      <td>5</td>\n",
              "      <td>0</td>\n",
              "      <td>1.001422</td>\n",
              "      <td>1.002301</td>\n",
              "      <td>1.00137</td>\n",
              "      <td>1.002353</td>\n",
              "      <td>3</td>\n",
              "      <td>226</td>\n",
              "      <td>2</td>\n",
              "      <td>100</td>\n",
              "      <td>0</td>\n",
              "    </tr>\n",
              "    <tr>\n",
              "      <th>1</th>\n",
              "      <td>5</td>\n",
              "      <td>1</td>\n",
              "      <td>1.001422</td>\n",
              "      <td>1.002301</td>\n",
              "      <td>1.00137</td>\n",
              "      <td>1.002353</td>\n",
              "      <td>3</td>\n",
              "      <td>100</td>\n",
              "      <td>2</td>\n",
              "      <td>100</td>\n",
              "      <td>0</td>\n",
              "    </tr>\n",
              "    <tr>\n",
              "      <th>2</th>\n",
              "      <td>5</td>\n",
              "      <td>5</td>\n",
              "      <td>1.001422</td>\n",
              "      <td>1.002301</td>\n",
              "      <td>1.00137</td>\n",
              "      <td>1.002405</td>\n",
              "      <td>3</td>\n",
              "      <td>100</td>\n",
              "      <td>2</td>\n",
              "      <td>100</td>\n",
              "      <td>0</td>\n",
              "    </tr>\n",
              "    <tr>\n",
              "      <th>3</th>\n",
              "      <td>5</td>\n",
              "      <td>6</td>\n",
              "      <td>1.001422</td>\n",
              "      <td>1.002301</td>\n",
              "      <td>1.00137</td>\n",
              "      <td>1.002405</td>\n",
              "      <td>3</td>\n",
              "      <td>126</td>\n",
              "      <td>2</td>\n",
              "      <td>100</td>\n",
              "      <td>0</td>\n",
              "    </tr>\n",
              "    <tr>\n",
              "      <th>4</th>\n",
              "      <td>5</td>\n",
              "      <td>7</td>\n",
              "      <td>1.001422</td>\n",
              "      <td>1.002301</td>\n",
              "      <td>1.00137</td>\n",
              "      <td>1.002405</td>\n",
              "      <td>3</td>\n",
              "      <td>126</td>\n",
              "      <td>2</td>\n",
              "      <td>100</td>\n",
              "      <td>0</td>\n",
              "    </tr>\n",
              "  </tbody>\n",
              "</table>\n",
              "</div>"
            ],
            "text/plain": [
              "   time_id  seconds_in_bucket  bid_price1  ask_price1  bid_price2  ask_price2  \\\n",
              "0        5                  0    1.001422    1.002301     1.00137    1.002353   \n",
              "1        5                  1    1.001422    1.002301     1.00137    1.002353   \n",
              "2        5                  5    1.001422    1.002301     1.00137    1.002405   \n",
              "3        5                  6    1.001422    1.002301     1.00137    1.002405   \n",
              "4        5                  7    1.001422    1.002301     1.00137    1.002405   \n",
              "\n",
              "   bid_size1  ask_size1  bid_size2  ask_size2 stock_id  \n",
              "0          3        226          2        100        0  \n",
              "1          3        100          2        100        0  \n",
              "2          3        100          2        100        0  \n",
              "3          3        126          2        100        0  \n",
              "4          3        126          2        100        0  "
            ]
          },
          "metadata": {
            "tags": []
          },
          "execution_count": 12
        }
      ]
    },
    {
      "cell_type": "code",
      "metadata": {
        "id": "kT3NeCeuqPkc"
      },
      "source": [
        "import glob\n",
        "subset_paths = glob.glob('/content/gdrive/MyDrive/optiver-realized-volatility-prediction/book_train.parquet/stock_id=11*/*')\n",
        "#book_train_subset = pd.read_parquet(subset_paths)\n",
        "#book_train_subset.info()"
      ],
      "execution_count": 14,
      "outputs": []
    },
    {
      "cell_type": "code",
      "metadata": {
        "colab": {
          "base_uri": "https://localhost:8080/",
          "height": 204
        },
        "id": "1WFH6XjHqbb0",
        "outputId": "601e5207-5a37-4efe-8c4b-5c3d9d3449b6"
      },
      "source": [
        "import numpy as np\n",
        "import plotly.express as px\n",
        "train = pd.read_csv('/content/gdrive/MyDrive/optiver-realized-volatility-prediction/train.csv')\n",
        "train.head()"
      ],
      "execution_count": 15,
      "outputs": [
        {
          "output_type": "execute_result",
          "data": {
            "text/html": [
              "<div>\n",
              "<style scoped>\n",
              "    .dataframe tbody tr th:only-of-type {\n",
              "        vertical-align: middle;\n",
              "    }\n",
              "\n",
              "    .dataframe tbody tr th {\n",
              "        vertical-align: top;\n",
              "    }\n",
              "\n",
              "    .dataframe thead th {\n",
              "        text-align: right;\n",
              "    }\n",
              "</style>\n",
              "<table border=\"1\" class=\"dataframe\">\n",
              "  <thead>\n",
              "    <tr style=\"text-align: right;\">\n",
              "      <th></th>\n",
              "      <th>stock_id</th>\n",
              "      <th>time_id</th>\n",
              "      <th>target</th>\n",
              "    </tr>\n",
              "  </thead>\n",
              "  <tbody>\n",
              "    <tr>\n",
              "      <th>0</th>\n",
              "      <td>0</td>\n",
              "      <td>5</td>\n",
              "      <td>0.004136</td>\n",
              "    </tr>\n",
              "    <tr>\n",
              "      <th>1</th>\n",
              "      <td>0</td>\n",
              "      <td>11</td>\n",
              "      <td>0.001445</td>\n",
              "    </tr>\n",
              "    <tr>\n",
              "      <th>2</th>\n",
              "      <td>0</td>\n",
              "      <td>16</td>\n",
              "      <td>0.002168</td>\n",
              "    </tr>\n",
              "    <tr>\n",
              "      <th>3</th>\n",
              "      <td>0</td>\n",
              "      <td>31</td>\n",
              "      <td>0.002195</td>\n",
              "    </tr>\n",
              "    <tr>\n",
              "      <th>4</th>\n",
              "      <td>0</td>\n",
              "      <td>62</td>\n",
              "      <td>0.001747</td>\n",
              "    </tr>\n",
              "  </tbody>\n",
              "</table>\n",
              "</div>"
            ],
            "text/plain": [
              "   stock_id  time_id    target\n",
              "0         0        5  0.004136\n",
              "1         0       11  0.001445\n",
              "2         0       16  0.002168\n",
              "3         0       31  0.002195\n",
              "4         0       62  0.001747"
            ]
          },
          "metadata": {
            "tags": []
          },
          "execution_count": 15
        }
      ]
    },
    {
      "cell_type": "code",
      "metadata": {
        "id": "uH-sHvKsxi7F"
      },
      "source": [
        "book_example = pd.read_parquet('/content/gdrive/MyDrive/optiver-realized-volatility-prediction/book_train.parquet/stock_id=0')\n",
        "trade_example =  pd.read_parquet('/content/gdrive/MyDrive/optiver-realized-volatility-prediction/trade_train.parquet/stock_id=0')\n",
        "stock_id = '0'\n",
        "book_example = book_example[book_example['time_id']==5]\n",
        "book_example.loc[:,'stock_id'] = stock_id\n",
        "trade_example = trade_example[trade_example['time_id']==5]\n",
        "trade_example.loc[:,'stock_id'] = stock_id"
      ],
      "execution_count": null,
      "outputs": []
    },
    {
      "cell_type": "code",
      "metadata": {
        "id": "CNovZGhRaLSv"
      },
      "source": [
        "book_example = pd.read_parquet('/content/gdrive/MyDrive/optiver-realized-volatility-prediction/book_train.parquet/stock_id=0')\n",
        "trade_example =  pd.read_parquet('/content/gdrive/MyDrive/optiver-realized-volatility-prediction/trade_train.parquet/stock_id=0')\n",
        "#book_example = book_example[book_example['time_id']==5]\n",
        "stock_id = '0'\n",
        "book_example.loc[:,'stock_id'] = stock_id\n",
        "#trade_example = trade_example[trade_example['time_id']==5]\n",
        "trade_example.loc[:,'stock_id'] = stock_id"
      ],
      "execution_count": 61,
      "outputs": []
    },
    {
      "cell_type": "code",
      "metadata": {
        "id": "bDreyCyZcYu4"
      },
      "source": [
        ""
      ],
      "execution_count": null,
      "outputs": []
    },
    {
      "cell_type": "code",
      "metadata": {
        "id": "fyYw6vphcHhf"
      },
      "source": [
        ""
      ],
      "execution_count": null,
      "outputs": []
    },
    {
      "cell_type": "code",
      "metadata": {
        "id": "KIlGHkEyxsLz"
      },
      "source": [
        "#book_example.head()"
      ],
      "execution_count": 38,
      "outputs": []
    },
    {
      "cell_type": "code",
      "metadata": {
        "colab": {
          "base_uri": "https://localhost:8080/",
          "height": 359
        },
        "id": "RqNsJG-CxwBg",
        "outputId": "4f970d09-88bf-43c6-e04f-ca6cc8c7acd5"
      },
      "source": [
        "trade_example.tail(10)"
      ],
      "execution_count": 27,
      "outputs": [
        {
          "output_type": "execute_result",
          "data": {
            "text/html": [
              "<div>\n",
              "<style scoped>\n",
              "    .dataframe tbody tr th:only-of-type {\n",
              "        vertical-align: middle;\n",
              "    }\n",
              "\n",
              "    .dataframe tbody tr th {\n",
              "        vertical-align: top;\n",
              "    }\n",
              "\n",
              "    .dataframe thead th {\n",
              "        text-align: right;\n",
              "    }\n",
              "</style>\n",
              "<table border=\"1\" class=\"dataframe\">\n",
              "  <thead>\n",
              "    <tr style=\"text-align: right;\">\n",
              "      <th></th>\n",
              "      <th>time_id</th>\n",
              "      <th>seconds_in_bucket</th>\n",
              "      <th>price</th>\n",
              "      <th>size</th>\n",
              "      <th>order_count</th>\n",
              "      <th>stock_id</th>\n",
              "    </tr>\n",
              "  </thead>\n",
              "  <tbody>\n",
              "    <tr>\n",
              "      <th>30</th>\n",
              "      <td>5</td>\n",
              "      <td>514</td>\n",
              "      <td>1.004012</td>\n",
              "      <td>29</td>\n",
              "      <td>3</td>\n",
              "      <td>0</td>\n",
              "    </tr>\n",
              "    <tr>\n",
              "      <th>31</th>\n",
              "      <td>5</td>\n",
              "      <td>523</td>\n",
              "      <td>1.004008</td>\n",
              "      <td>1</td>\n",
              "      <td>1</td>\n",
              "      <td>0</td>\n",
              "    </tr>\n",
              "    <tr>\n",
              "      <th>32</th>\n",
              "      <td>5</td>\n",
              "      <td>540</td>\n",
              "      <td>1.003543</td>\n",
              "      <td>4</td>\n",
              "      <td>1</td>\n",
              "      <td>0</td>\n",
              "    </tr>\n",
              "    <tr>\n",
              "      <th>33</th>\n",
              "      <td>5</td>\n",
              "      <td>549</td>\n",
              "      <td>1.003129</td>\n",
              "      <td>2</td>\n",
              "      <td>1</td>\n",
              "      <td>0</td>\n",
              "    </tr>\n",
              "    <tr>\n",
              "      <th>34</th>\n",
              "      <td>5</td>\n",
              "      <td>550</td>\n",
              "      <td>1.002799</td>\n",
              "      <td>13</td>\n",
              "      <td>3</td>\n",
              "      <td>0</td>\n",
              "    </tr>\n",
              "    <tr>\n",
              "      <th>35</th>\n",
              "      <td>5</td>\n",
              "      <td>551</td>\n",
              "      <td>1.002561</td>\n",
              "      <td>154</td>\n",
              "      <td>5</td>\n",
              "      <td>0</td>\n",
              "    </tr>\n",
              "    <tr>\n",
              "      <th>36</th>\n",
              "      <td>5</td>\n",
              "      <td>562</td>\n",
              "      <td>1.002715</td>\n",
              "      <td>1</td>\n",
              "      <td>1</td>\n",
              "      <td>0</td>\n",
              "    </tr>\n",
              "    <tr>\n",
              "      <th>37</th>\n",
              "      <td>5</td>\n",
              "      <td>572</td>\n",
              "      <td>1.003191</td>\n",
              "      <td>499</td>\n",
              "      <td>6</td>\n",
              "      <td>0</td>\n",
              "    </tr>\n",
              "    <tr>\n",
              "      <th>38</th>\n",
              "      <td>5</td>\n",
              "      <td>581</td>\n",
              "      <td>1.003478</td>\n",
              "      <td>8</td>\n",
              "      <td>3</td>\n",
              "      <td>0</td>\n",
              "    </tr>\n",
              "    <tr>\n",
              "      <th>39</th>\n",
              "      <td>5</td>\n",
              "      <td>585</td>\n",
              "      <td>1.003646</td>\n",
              "      <td>26</td>\n",
              "      <td>2</td>\n",
              "      <td>0</td>\n",
              "    </tr>\n",
              "  </tbody>\n",
              "</table>\n",
              "</div>"
            ],
            "text/plain": [
              "    time_id  seconds_in_bucket     price  size  order_count stock_id\n",
              "30        5                514  1.004012    29            3        0\n",
              "31        5                523  1.004008     1            1        0\n",
              "32        5                540  1.003543     4            1        0\n",
              "33        5                549  1.003129     2            1        0\n",
              "34        5                550  1.002799    13            3        0\n",
              "35        5                551  1.002561   154            5        0\n",
              "36        5                562  1.002715     1            1        0\n",
              "37        5                572  1.003191   499            6        0\n",
              "38        5                581  1.003478     8            3        0\n",
              "39        5                585  1.003646    26            2        0"
            ]
          },
          "metadata": {
            "tags": []
          },
          "execution_count": 27
        }
      ]
    },
    {
      "cell_type": "code",
      "metadata": {
        "id": "CG-UcStRx7cx"
      },
      "source": [
        "book_example['wap'] = (book_example['bid_price1'] * book_example['ask_size1'] +\n",
        "                                book_example['ask_price1'] * book_example['bid_size1']) / (\n",
        "                                       book_example['bid_size1']+ book_example['ask_size1'])"
      ],
      "execution_count": 64,
      "outputs": []
    },
    {
      "cell_type": "code",
      "metadata": {
        "id": "27Kv7d4qimRw"
      },
      "source": [
        "xx=book_example.groupby(['time_id']) #['wap']"
      ],
      "execution_count": 75,
      "outputs": []
    },
    {
      "cell_type": "code",
      "metadata": {
        "id": "RnCftOcMi34q",
        "outputId": "4dba0589-1168-4a1e-f589-dcf1cee012da",
        "colab": {
          "base_uri": "https://localhost:8080/"
        }
      },
      "source": [
        "type(xx)"
      ],
      "execution_count": 76,
      "outputs": [
        {
          "output_type": "execute_result",
          "data": {
            "text/plain": [
              "pandas.core.groupby.generic.DataFrameGroupBy"
            ]
          },
          "metadata": {
            "tags": []
          },
          "execution_count": 76
        }
      ]
    },
    {
      "cell_type": "code",
      "metadata": {
        "id": "mUHkZKzYlZRq",
        "outputId": "e475553b-0e9c-4f46-9343-719a346f7c32",
        "colab": {
          "base_uri": "https://localhost:8080/"
        }
      },
      "source": [
        ""
      ],
      "execution_count": 81,
      "outputs": [
        {
          "output_type": "execute_result",
          "data": {
            "text/plain": [
              "0            0\n",
              "1            0\n",
              "2            0\n",
              "3            0\n",
              "4            0\n",
              "          ... \n",
              "917548    3829\n",
              "917549    3829\n",
              "917550    3829\n",
              "917551    3829\n",
              "917552    3829\n",
              "Length: 917553, dtype: int64"
            ]
          },
          "metadata": {
            "tags": []
          },
          "execution_count": 81
        }
      ]
    },
    {
      "cell_type": "code",
      "metadata": {
        "id": "IzusMjZAiyZ6"
      },
      "source": [
        "xx=xx['wap']"
      ],
      "execution_count": 82,
      "outputs": []
    },
    {
      "cell_type": "code",
      "metadata": {
        "id": "d_33s1vdjDKl",
        "outputId": "2b223194-2f00-45fe-c73c-6de302a16b3e",
        "colab": {
          "base_uri": "https://localhost:8080/"
        }
      },
      "source": [
        "xx.last()"
      ],
      "execution_count": 74,
      "outputs": [
        {
          "output_type": "execute_result",
          "data": {
            "text/plain": [
              "time_id\n",
              "5        1.003731\n",
              "11       1.000306\n",
              "16       0.997603\n",
              "31       0.997491\n",
              "62       1.000077\n",
              "           ...   \n",
              "32751    0.996370\n",
              "32753    1.000380\n",
              "32758    1.000353\n",
              "32763    1.002091\n",
              "32767    0.998517\n",
              "Name: wap, Length: 3830, dtype: float32"
            ]
          },
          "metadata": {
            "tags": []
          },
          "execution_count": 74
        }
      ]
    },
    {
      "cell_type": "code",
      "metadata": {
        "id": "dPxfsqpzigY9"
      },
      "source": [
        "book_example['log_return'] = book_example.groupby(['time_id'])['wap'].apply(log_return)\n",
        "book_example = book_example[~book_example['log_return'].isnull()]"
      ],
      "execution_count": 86,
      "outputs": []
    },
    {
      "cell_type": "code",
      "metadata": {
        "id": "T5CUCKmCmTay",
        "outputId": "17f0bbe0-cfaa-4764-8bc2-13ec5ac62eba",
        "colab": {
          "base_uri": "https://localhost:8080/",
          "height": 204
        }
      },
      "source": [
        "book_example.head()"
      ],
      "execution_count": 87,
      "outputs": [
        {
          "output_type": "execute_result",
          "data": {
            "text/html": [
              "<div>\n",
              "<style scoped>\n",
              "    .dataframe tbody tr th:only-of-type {\n",
              "        vertical-align: middle;\n",
              "    }\n",
              "\n",
              "    .dataframe tbody tr th {\n",
              "        vertical-align: top;\n",
              "    }\n",
              "\n",
              "    .dataframe thead th {\n",
              "        text-align: right;\n",
              "    }\n",
              "</style>\n",
              "<table border=\"1\" class=\"dataframe\">\n",
              "  <thead>\n",
              "    <tr style=\"text-align: right;\">\n",
              "      <th></th>\n",
              "      <th>time_id</th>\n",
              "      <th>seconds_in_bucket</th>\n",
              "      <th>bid_price1</th>\n",
              "      <th>ask_price1</th>\n",
              "      <th>bid_price2</th>\n",
              "      <th>ask_price2</th>\n",
              "      <th>bid_size1</th>\n",
              "      <th>ask_size1</th>\n",
              "      <th>bid_size2</th>\n",
              "      <th>ask_size2</th>\n",
              "      <th>stock_id</th>\n",
              "      <th>wap</th>\n",
              "      <th>log_return</th>\n",
              "    </tr>\n",
              "  </thead>\n",
              "  <tbody>\n",
              "    <tr>\n",
              "      <th>1</th>\n",
              "      <td>5</td>\n",
              "      <td>1</td>\n",
              "      <td>1.001422</td>\n",
              "      <td>1.002301</td>\n",
              "      <td>1.00137</td>\n",
              "      <td>1.002353</td>\n",
              "      <td>3</td>\n",
              "      <td>100</td>\n",
              "      <td>2</td>\n",
              "      <td>100</td>\n",
              "      <td>0</td>\n",
              "      <td>1.001448</td>\n",
              "      <td>0.000014</td>\n",
              "    </tr>\n",
              "    <tr>\n",
              "      <th>2</th>\n",
              "      <td>5</td>\n",
              "      <td>5</td>\n",
              "      <td>1.001422</td>\n",
              "      <td>1.002301</td>\n",
              "      <td>1.00137</td>\n",
              "      <td>1.002405</td>\n",
              "      <td>3</td>\n",
              "      <td>100</td>\n",
              "      <td>2</td>\n",
              "      <td>100</td>\n",
              "      <td>0</td>\n",
              "      <td>1.001448</td>\n",
              "      <td>0.000000</td>\n",
              "    </tr>\n",
              "    <tr>\n",
              "      <th>3</th>\n",
              "      <td>5</td>\n",
              "      <td>6</td>\n",
              "      <td>1.001422</td>\n",
              "      <td>1.002301</td>\n",
              "      <td>1.00137</td>\n",
              "      <td>1.002405</td>\n",
              "      <td>3</td>\n",
              "      <td>126</td>\n",
              "      <td>2</td>\n",
              "      <td>100</td>\n",
              "      <td>0</td>\n",
              "      <td>1.001443</td>\n",
              "      <td>-0.000005</td>\n",
              "    </tr>\n",
              "    <tr>\n",
              "      <th>4</th>\n",
              "      <td>5</td>\n",
              "      <td>7</td>\n",
              "      <td>1.001422</td>\n",
              "      <td>1.002301</td>\n",
              "      <td>1.00137</td>\n",
              "      <td>1.002405</td>\n",
              "      <td>3</td>\n",
              "      <td>126</td>\n",
              "      <td>2</td>\n",
              "      <td>100</td>\n",
              "      <td>0</td>\n",
              "      <td>1.001443</td>\n",
              "      <td>0.000000</td>\n",
              "    </tr>\n",
              "    <tr>\n",
              "      <th>5</th>\n",
              "      <td>5</td>\n",
              "      <td>11</td>\n",
              "      <td>1.001422</td>\n",
              "      <td>1.002301</td>\n",
              "      <td>1.00137</td>\n",
              "      <td>1.002405</td>\n",
              "      <td>3</td>\n",
              "      <td>100</td>\n",
              "      <td>2</td>\n",
              "      <td>100</td>\n",
              "      <td>0</td>\n",
              "      <td>1.001448</td>\n",
              "      <td>0.000005</td>\n",
              "    </tr>\n",
              "  </tbody>\n",
              "</table>\n",
              "</div>"
            ],
            "text/plain": [
              "   time_id  seconds_in_bucket  bid_price1  ask_price1  bid_price2  ask_price2  \\\n",
              "1        5                  1    1.001422    1.002301     1.00137    1.002353   \n",
              "2        5                  5    1.001422    1.002301     1.00137    1.002405   \n",
              "3        5                  6    1.001422    1.002301     1.00137    1.002405   \n",
              "4        5                  7    1.001422    1.002301     1.00137    1.002405   \n",
              "5        5                 11    1.001422    1.002301     1.00137    1.002405   \n",
              "\n",
              "   bid_size1  ask_size1  bid_size2  ask_size2 stock_id       wap  log_return  \n",
              "1          3        100          2        100        0  1.001448    0.000014  \n",
              "2          3        100          2        100        0  1.001448    0.000000  \n",
              "3          3        126          2        100        0  1.001443   -0.000005  \n",
              "4          3        126          2        100        0  1.001443    0.000000  \n",
              "5          3        100          2        100        0  1.001448    0.000005  "
            ]
          },
          "metadata": {
            "tags": []
          },
          "execution_count": 87
        }
      ]
    },
    {
      "cell_type": "code",
      "metadata": {
        "id": "MraaerG5m0-P"
      },
      "source": [
        "df_realized_vol_per_stock =  pd.DataFrame(book_example.groupby(['time_id'])['log_return'].agg(realized_volatility)).reset_index()"
      ],
      "execution_count": 88,
      "outputs": []
    },
    {
      "cell_type": "code",
      "metadata": {
        "id": "AaJ_l6L5m_Mw",
        "outputId": "da395f71-0af7-4b2a-ec9d-a0f76cb696ae",
        "colab": {
          "base_uri": "https://localhost:8080/",
          "height": 1000
        }
      },
      "source": [
        "df_realized_vol_per_stock.head(40)"
      ],
      "execution_count": 92,
      "outputs": [
        {
          "output_type": "execute_result",
          "data": {
            "text/html": [
              "<div>\n",
              "<style scoped>\n",
              "    .dataframe tbody tr th:only-of-type {\n",
              "        vertical-align: middle;\n",
              "    }\n",
              "\n",
              "    .dataframe tbody tr th {\n",
              "        vertical-align: top;\n",
              "    }\n",
              "\n",
              "    .dataframe thead th {\n",
              "        text-align: right;\n",
              "    }\n",
              "</style>\n",
              "<table border=\"1\" class=\"dataframe\">\n",
              "  <thead>\n",
              "    <tr style=\"text-align: right;\">\n",
              "      <th></th>\n",
              "      <th>time_id</th>\n",
              "      <th>log_return</th>\n",
              "    </tr>\n",
              "  </thead>\n",
              "  <tbody>\n",
              "    <tr>\n",
              "      <th>0</th>\n",
              "      <td>5</td>\n",
              "      <td>0.004499</td>\n",
              "    </tr>\n",
              "    <tr>\n",
              "      <th>1</th>\n",
              "      <td>11</td>\n",
              "      <td>0.001204</td>\n",
              "    </tr>\n",
              "    <tr>\n",
              "      <th>2</th>\n",
              "      <td>16</td>\n",
              "      <td>0.002369</td>\n",
              "    </tr>\n",
              "    <tr>\n",
              "      <th>3</th>\n",
              "      <td>31</td>\n",
              "      <td>0.002574</td>\n",
              "    </tr>\n",
              "    <tr>\n",
              "      <th>4</th>\n",
              "      <td>62</td>\n",
              "      <td>0.001894</td>\n",
              "    </tr>\n",
              "    <tr>\n",
              "      <th>5</th>\n",
              "      <td>72</td>\n",
              "      <td>0.007902</td>\n",
              "    </tr>\n",
              "    <tr>\n",
              "      <th>6</th>\n",
              "      <td>97</td>\n",
              "      <td>0.010034</td>\n",
              "    </tr>\n",
              "    <tr>\n",
              "      <th>7</th>\n",
              "      <td>103</td>\n",
              "      <td>0.005331</td>\n",
              "    </tr>\n",
              "    <tr>\n",
              "      <th>8</th>\n",
              "      <td>109</td>\n",
              "      <td>0.001797</td>\n",
              "    </tr>\n",
              "    <tr>\n",
              "      <th>9</th>\n",
              "      <td>123</td>\n",
              "      <td>0.003273</td>\n",
              "    </tr>\n",
              "    <tr>\n",
              "      <th>10</th>\n",
              "      <td>128</td>\n",
              "      <td>0.002445</td>\n",
              "    </tr>\n",
              "    <tr>\n",
              "      <th>11</th>\n",
              "      <td>146</td>\n",
              "      <td>0.006553</td>\n",
              "    </tr>\n",
              "    <tr>\n",
              "      <th>12</th>\n",
              "      <td>147</td>\n",
              "      <td>0.002837</td>\n",
              "    </tr>\n",
              "    <tr>\n",
              "      <th>13</th>\n",
              "      <td>152</td>\n",
              "      <td>0.003641</td>\n",
              "    </tr>\n",
              "    <tr>\n",
              "      <th>14</th>\n",
              "      <td>157</td>\n",
              "      <td>0.007099</td>\n",
              "    </tr>\n",
              "    <tr>\n",
              "      <th>15</th>\n",
              "      <td>159</td>\n",
              "      <td>0.003154</td>\n",
              "    </tr>\n",
              "    <tr>\n",
              "      <th>16</th>\n",
              "      <td>169</td>\n",
              "      <td>0.002880</td>\n",
              "    </tr>\n",
              "    <tr>\n",
              "      <th>17</th>\n",
              "      <td>207</td>\n",
              "      <td>0.009060</td>\n",
              "    </tr>\n",
              "    <tr>\n",
              "      <th>18</th>\n",
              "      <td>211</td>\n",
              "      <td>0.001794</td>\n",
              "    </tr>\n",
              "    <tr>\n",
              "      <th>19</th>\n",
              "      <td>213</td>\n",
              "      <td>0.003117</td>\n",
              "    </tr>\n",
              "    <tr>\n",
              "      <th>20</th>\n",
              "      <td>218</td>\n",
              "      <td>0.001618</td>\n",
              "    </tr>\n",
              "    <tr>\n",
              "      <th>21</th>\n",
              "      <td>227</td>\n",
              "      <td>0.005559</td>\n",
              "    </tr>\n",
              "    <tr>\n",
              "      <th>22</th>\n",
              "      <td>229</td>\n",
              "      <td>0.001041</td>\n",
              "    </tr>\n",
              "    <tr>\n",
              "      <th>23</th>\n",
              "      <td>232</td>\n",
              "      <td>0.004405</td>\n",
              "    </tr>\n",
              "    <tr>\n",
              "      <th>24</th>\n",
              "      <td>250</td>\n",
              "      <td>0.001911</td>\n",
              "    </tr>\n",
              "    <tr>\n",
              "      <th>25</th>\n",
              "      <td>254</td>\n",
              "      <td>0.010062</td>\n",
              "    </tr>\n",
              "    <tr>\n",
              "      <th>26</th>\n",
              "      <td>256</td>\n",
              "      <td>0.003026</td>\n",
              "    </tr>\n",
              "    <tr>\n",
              "      <th>27</th>\n",
              "      <td>266</td>\n",
              "      <td>0.005163</td>\n",
              "    </tr>\n",
              "    <tr>\n",
              "      <th>28</th>\n",
              "      <td>273</td>\n",
              "      <td>0.001031</td>\n",
              "    </tr>\n",
              "    <tr>\n",
              "      <th>29</th>\n",
              "      <td>289</td>\n",
              "      <td>0.002308</td>\n",
              "    </tr>\n",
              "    <tr>\n",
              "      <th>30</th>\n",
              "      <td>297</td>\n",
              "      <td>0.002601</td>\n",
              "    </tr>\n",
              "    <tr>\n",
              "      <th>31</th>\n",
              "      <td>303</td>\n",
              "      <td>0.004727</td>\n",
              "    </tr>\n",
              "    <tr>\n",
              "      <th>32</th>\n",
              "      <td>309</td>\n",
              "      <td>0.002256</td>\n",
              "    </tr>\n",
              "    <tr>\n",
              "      <th>33</th>\n",
              "      <td>310</td>\n",
              "      <td>0.010256</td>\n",
              "    </tr>\n",
              "    <tr>\n",
              "      <th>34</th>\n",
              "      <td>317</td>\n",
              "      <td>0.002495</td>\n",
              "    </tr>\n",
              "    <tr>\n",
              "      <th>35</th>\n",
              "      <td>319</td>\n",
              "      <td>0.004141</td>\n",
              "    </tr>\n",
              "    <tr>\n",
              "      <th>36</th>\n",
              "      <td>325</td>\n",
              "      <td>0.004241</td>\n",
              "    </tr>\n",
              "    <tr>\n",
              "      <th>37</th>\n",
              "      <td>326</td>\n",
              "      <td>0.008840</td>\n",
              "    </tr>\n",
              "    <tr>\n",
              "      <th>38</th>\n",
              "      <td>335</td>\n",
              "      <td>0.007245</td>\n",
              "    </tr>\n",
              "    <tr>\n",
              "      <th>39</th>\n",
              "      <td>337</td>\n",
              "      <td>0.001566</td>\n",
              "    </tr>\n",
              "  </tbody>\n",
              "</table>\n",
              "</div>"
            ],
            "text/plain": [
              "    time_id  log_return\n",
              "0         5    0.004499\n",
              "1        11    0.001204\n",
              "2        16    0.002369\n",
              "3        31    0.002574\n",
              "4        62    0.001894\n",
              "5        72    0.007902\n",
              "6        97    0.010034\n",
              "7       103    0.005331\n",
              "8       109    0.001797\n",
              "9       123    0.003273\n",
              "10      128    0.002445\n",
              "11      146    0.006553\n",
              "12      147    0.002837\n",
              "13      152    0.003641\n",
              "14      157    0.007099\n",
              "15      159    0.003154\n",
              "16      169    0.002880\n",
              "17      207    0.009060\n",
              "18      211    0.001794\n",
              "19      213    0.003117\n",
              "20      218    0.001618\n",
              "21      227    0.005559\n",
              "22      229    0.001041\n",
              "23      232    0.004405\n",
              "24      250    0.001911\n",
              "25      254    0.010062\n",
              "26      256    0.003026\n",
              "27      266    0.005163\n",
              "28      273    0.001031\n",
              "29      289    0.002308\n",
              "30      297    0.002601\n",
              "31      303    0.004727\n",
              "32      309    0.002256\n",
              "33      310    0.010256\n",
              "34      317    0.002495\n",
              "35      319    0.004141\n",
              "36      325    0.004241\n",
              "37      326    0.008840\n",
              "38      335    0.007245\n",
              "39      337    0.001566"
            ]
          },
          "metadata": {
            "tags": []
          },
          "execution_count": 92
        }
      ]
    },
    {
      "cell_type": "code",
      "metadata": {
        "colab": {
          "base_uri": "https://localhost:8080/",
          "height": 542
        },
        "id": "-e-Z6HSp4l1y",
        "outputId": "14f3ae8d-77c4-4a77-815b-8d89c909a578"
      },
      "source": [
        "fig = px.line(book_example, x=\"seconds_in_bucket\", y=\"wap\", title='WAP of stock_id_0, time_id_5')\n",
        "fig.show()"
      ],
      "execution_count": 43,
      "outputs": [
        {
          "output_type": "display_data",
          "data": {
            "text/html": [
              "<html>\n",
              "<head><meta charset=\"utf-8\" /></head>\n",
              "<body>\n",
              "    <div>\n",
              "            <script src=\"https://cdnjs.cloudflare.com/ajax/libs/mathjax/2.7.5/MathJax.js?config=TeX-AMS-MML_SVG\"></script><script type=\"text/javascript\">if (window.MathJax) {MathJax.Hub.Config({SVG: {font: \"STIX-Web\"}});}</script>\n",
              "                <script type=\"text/javascript\">window.PlotlyConfig = {MathJaxConfig: 'local'};</script>\n",
              "        <script src=\"https://cdn.plot.ly/plotly-latest.min.js\"></script>    \n",
              "            <div id=\"cb7b6635-091d-476b-848a-1da091394d79\" class=\"plotly-graph-div\" style=\"height:525px; width:100%;\"></div>\n",
              "            <script type=\"text/javascript\">\n",
              "                \n",
              "                    window.PLOTLYENV=window.PLOTLYENV || {};\n",
              "                    \n",
              "                if (document.getElementById(\"cb7b6635-091d-476b-848a-1da091394d79\")) {\n",
              "                    Plotly.newPlot(\n",
              "                        'cb7b6635-091d-476b-848a-1da091394d79',\n",
              "                        [{\"hoverlabel\": {\"namelength\": 0}, \"hovertemplate\": \"seconds_in_bucket=%{x}<br>wap=%{y}\", \"legendgroup\": \"\", \"line\": {\"color\": \"#636efa\", \"dash\": \"solid\"}, \"mode\": \"lines\", \"name\": \"\", \"showlegend\": false, \"type\": \"scatter\", \"x\": [0, 1, 5, 6, 7, 11, 12, 14, 15, 16, 17, 18, 19, 21, 24, 25, 44, 46, 47, 48, 50, 51, 55, 57, 59, 60, 63, 68, 69, 78, 79, 81, 83, 85, 90, 92, 93, 94, 97, 98, 101, 103, 105, 106, 110, 111, 113, 114, 115, 118, 119, 122, 123, 124, 126, 127, 128, 129, 132, 133, 134, 138, 140, 141, 143, 144, 145, 147, 148, 149, 150, 151, 152, 153, 154, 158, 159, 160, 161, 164, 165, 166, 167, 168, 169, 171, 173, 174, 175, 177, 178, 181, 182, 183, 185, 186, 187, 188, 189, 190, 191, 192, 193, 194, 195, 196, 197, 198, 199, 200, 201, 203, 204, 205, 206, 207, 209, 211, 212, 213, 215, 216, 218, 219, 221, 222, 223, 224, 225, 226, 227, 228, 230, 231, 232, 233, 234, 235, 237, 239, 248, 253, 254, 255, 256, 257, 258, 259, 260, 263, 264, 265, 269, 278, 282, 283, 287, 288, 290, 293, 295, 296, 298, 301, 303, 304, 305, 306, 308, 309, 310, 311, 312, 313, 314, 316, 322, 323, 329, 331, 336, 338, 340, 345, 348, 350, 353, 356, 363, 365, 366, 367, 374, 378, 380, 382, 385, 386, 388, 389, 391, 394, 398, 399, 400, 401, 402, 403, 404, 406, 410, 411, 416, 425, 426, 427, 428, 430, 431, 433, 434, 435, 437, 438, 440, 441, 442, 443, 444, 445, 446, 447, 448, 449, 464, 465, 466, 467, 470, 471, 472, 473, 474, 475, 477, 478, 479, 488, 489, 495, 496, 498, 503, 511, 513, 514, 515, 516, 518, 519, 520, 521, 522, 523, 524, 525, 526, 528, 531, 532, 534, 535, 538, 539, 540, 541, 542, 545, 546, 548, 549, 550, 551, 552, 555, 558, 561, 562, 563, 571, 572, 573, 574, 575, 579, 581, 584, 585, 586, 587, 588, 593], \"xaxis\": \"x\", \"y\": [1.0014336843157439, 1.0014477736741594, 1.0014477736741594, 1.0014426126036533, 1.0014426126036533, 1.0014477736741594, 1.0014426126036533, 1.0014426126036533, 1.0014426126036533, 1.0014426126036533, 1.0014477736741594, 1.0014426126036533, 1.0014426126036533, 1.0015491030432961, 1.002600428220388, 1.0025301475440507, 1.0025445201375462, 1.0032295882701874, 1.0032248518296651, 1.002964347600937, 1.0024407687394514, 1.0024407687394514, 1.0024407687394514, 1.0032566723070646, 1.0036235884124158, 1.0036120873231154, 1.0034252484639485, 1.0033097863197327, 1.002910717113598, 1.0038805561406272, 1.0041013294830918, 1.0041036534130126, 1.0041013294830918, 1.004102745128952, 1.0041392411350123, 1.0041288927003935, 1.0041036534130126, 1.0041036534130126, 1.0041288927003935, 1.004128441998833, 1.0041013294830918, 1.0041013294830918, 1.0041013294830918, 1.0041013294830918, 1.0041143033239577, 1.004120945930481, 1.0038257338961616, 1.0039918102435212, 1.0039680694278919, 1.0039179451418239, 1.0037970106200416, 1.0040983216453145, 1.0040972449562766, 1.0040972449562766, 1.0045380145311356, 1.0041829622708833, 1.0049040850335762, 1.0049195733724856, 1.0048730265010486, 1.0046135148694437, 1.0046135148694437, 1.0046135148694437, 1.0043389240900675, 1.0043389240900675, 1.0046789098430324, 1.0041458426099834, 1.0041448057146, 1.0040079355239868, 1.0034489781556728, 1.0034542808345719, 1.0034542808345719, 1.0034637682473482, 1.0039562781651814, 1.0034622274227996, 1.0034618868547327, 1.0039562781651814, 1.0034636978119138, 1.0039562781651814, 1.0034489781556728, 1.0034489191713787, 1.0034489781556728, 1.0034489191713787, 1.0034489781556728, 1.0034489781556728, 1.0034640950541343, 1.0034636978119138, 1.0039562781651814, 1.0034640950541343, 1.0034636978119138, 1.003940543032581, 1.0038157341615208, 1.0037824202300911, 1.0037835206625596, 1.0038157341615208, 1.003962755203247, 1.003962755203247, 1.0044647653897603, 1.0043182522058487, 1.0042349599265112, 1.0045665620577218, 1.004083096684508, 1.0040527946256064, 1.0040505470014085, 1.0040527946256064, 1.0040505470014085, 1.004003386686344, 1.0040295112251054, 1.0040057246277971, 1.0040011165177294, 1.0040011165177294, 1.004003386686344, 1.004455194753759, 1.003982126712799, 1.0039799397264546, 1.0039756303937564, 1.0041469218684178, 1.00371783002844, 1.0040888161335177, 1.0039464976843886, 1.0039464976843886, 1.0039464976843886, 1.0039464976843886, 1.0040484959003972, 1.0041674535367742, 1.0041742634378086, 1.0039415521844353, 1.0043196158531384, 1.004629827681042, 1.0045994654507704, 1.004640596700706, 1.0046049650804496, 1.0043470197253757, 1.0038643368968256, 1.004344003635217, 1.0043470197253757, 1.004372299705421, 1.004518723148468, 1.0043745604190197, 1.004393008020189, 1.004393008020189, 1.0043903095287512, 1.0043876406910655, 1.0039278478112839, 1.0039278478112839, 1.003671512975321, 1.004104240105884, 1.004104240105884, 1.004104240105884, 1.004104240105884, 1.0041037290403159, 1.0037493705749512, 1.0033963470283997, 1.0038597560845888, 1.0040079355239868, 1.004035194714864, 1.0035930388378647, 1.0034454067548115, 1.0035579901236993, 1.003558057287465, 1.0035631393457387, 1.0035781249021873, 1.0035784316473995, 1.003573437789818, 1.0039443511229296, 1.004015904206496, 1.0037027799074922, 1.0037027799074922, 1.0038727155098548, 1.0037678224699838, 1.0037678224699838, 1.0041016656390869, 1.0040977407287766, 1.0046738433600657, 1.0042749100392407, 1.0042749100392407, 1.0040497362907297, 1.0046674744917614, 1.0037674464068367, 1.0037585420561541, 1.004064338547843, 1.004064338547843, 1.004064338547843, 1.0034453060159731, 1.0037586796283722, 1.0037632646845347, 1.0037586796283722, 1.0037632646845347, 1.0037586796283722, 1.0037632646845347, 1.0037586796283722, 1.0040008948173051, 1.0040098340423018, 1.004163077899388, 1.0040357676181164, 1.004418126427301, 1.004418161569857, 1.004418161569857, 1.004418161569857, 1.004418126427301, 1.0044217242134943, 1.0044217242134943, 1.00444757938385, 1.0041968070187615, 1.0035236965526233, 1.0035236965526233, 1.0042688308563907, 1.00347651695383, 1.0039820671081543, 1.0039045214653015, 1.003671795129776, 1.0043398500646201, 1.0043398500646201, 1.004330194913424, 1.0041900821354077, 1.0038477241402806, 1.0038477241402806, 1.0038477493624383, 1.004152692561587, 1.0039854057792093, 1.0038655799688752, 1.0038906483306098, 1.0040968172252178, 1.0039235729920237, 1.0039786617439914, 1.0039992318095932, 1.0039215780677595, 1.0039786617439914, 1.0040016860672922, 1.0039235729920237, 1.0040220202821675, 1.003948079912286, 1.003948079912286, 1.0039562225341796, 1.004094123840332, 1.0037062366803486, 1.0040038399177023, 1.0038168690851983, 1.0038161344654095, 1.0034568984257548, 1.0033324025571346, 1.003693523785926, 1.003641215237704, 1.003882272570741, 1.003849411010742, 1.003516674041748, 1.0038244955001339, 1.003849411010742, 1.0039927258211023, 1.003990696925743, 1.0039458751678467, 1.0039941985160112, 1.0039950065753038, 1.0040005163804389, 1.0039173341889418, 1.0039183598644328, 1.0036890705426533, 1.003798966606458, 1.003810115482496, 1.0038030368310433, 1.0035979231511514, 1.0035974904894829, 1.0039721360573401, 1.003956225183275, 1.0036175103150597, 1.0036169336392329, 1.0035711333034485, 1.0035711333034485, 1.0035979231511514, 1.0036106950552888, 1.0036106950552888, 1.0039271786808968, 1.0039247896360315, 1.0035983626804654, 1.0035888144844456, 1.00320521644924, 1.0031453550986524, 1.003137302630156, 1.003450592358907, 1.003450592358907, 1.0033356547355652, 1.0027724799543325, 1.0026688174197549, 1.0020535228276017, 1.002053417411505, 1.002053417411505, 1.002053417411505, 1.0023789405822754, 1.0026891827583313, 1.0026869957719868, 1.0027129928864056, 1.0032041855712435, 1.0032580494880676, 1.0032580494880676, 1.0034068687906805, 1.0034068687906805, 1.0036209998307404, 1.0034858328955514, 1.0037312947430657, 1.0037312947430657, 1.0037312947430657, 1.0037312947430657, 1.0037312947430657], \"yaxis\": \"y\"}],\n",
              "                        {\"legend\": {\"tracegroupgap\": 0}, \"template\": {\"data\": {\"bar\": [{\"error_x\": {\"color\": \"#2a3f5f\"}, \"error_y\": {\"color\": \"#2a3f5f\"}, \"marker\": {\"line\": {\"color\": \"#E5ECF6\", \"width\": 0.5}}, \"type\": \"bar\"}], \"barpolar\": [{\"marker\": {\"line\": {\"color\": \"#E5ECF6\", \"width\": 0.5}}, \"type\": \"barpolar\"}], \"carpet\": [{\"aaxis\": {\"endlinecolor\": \"#2a3f5f\", \"gridcolor\": \"white\", \"linecolor\": \"white\", \"minorgridcolor\": \"white\", \"startlinecolor\": \"#2a3f5f\"}, \"baxis\": {\"endlinecolor\": \"#2a3f5f\", \"gridcolor\": \"white\", \"linecolor\": \"white\", \"minorgridcolor\": \"white\", \"startlinecolor\": \"#2a3f5f\"}, \"type\": \"carpet\"}], \"choropleth\": [{\"colorbar\": {\"outlinewidth\": 0, \"ticks\": \"\"}, \"type\": \"choropleth\"}], \"contour\": [{\"colorbar\": {\"outlinewidth\": 0, \"ticks\": \"\"}, \"colorscale\": [[0.0, \"#0d0887\"], [0.1111111111111111, \"#46039f\"], [0.2222222222222222, \"#7201a8\"], [0.3333333333333333, \"#9c179e\"], [0.4444444444444444, \"#bd3786\"], [0.5555555555555556, \"#d8576b\"], [0.6666666666666666, \"#ed7953\"], [0.7777777777777778, \"#fb9f3a\"], [0.8888888888888888, \"#fdca26\"], [1.0, \"#f0f921\"]], \"type\": \"contour\"}], \"contourcarpet\": [{\"colorbar\": {\"outlinewidth\": 0, \"ticks\": \"\"}, \"type\": \"contourcarpet\"}], \"heatmap\": [{\"colorbar\": {\"outlinewidth\": 0, \"ticks\": \"\"}, \"colorscale\": [[0.0, \"#0d0887\"], [0.1111111111111111, \"#46039f\"], [0.2222222222222222, \"#7201a8\"], [0.3333333333333333, \"#9c179e\"], [0.4444444444444444, \"#bd3786\"], [0.5555555555555556, \"#d8576b\"], [0.6666666666666666, \"#ed7953\"], [0.7777777777777778, \"#fb9f3a\"], [0.8888888888888888, \"#fdca26\"], [1.0, \"#f0f921\"]], \"type\": \"heatmap\"}], \"heatmapgl\": [{\"colorbar\": {\"outlinewidth\": 0, \"ticks\": \"\"}, \"colorscale\": [[0.0, \"#0d0887\"], [0.1111111111111111, \"#46039f\"], [0.2222222222222222, \"#7201a8\"], [0.3333333333333333, \"#9c179e\"], [0.4444444444444444, \"#bd3786\"], [0.5555555555555556, \"#d8576b\"], [0.6666666666666666, \"#ed7953\"], [0.7777777777777778, \"#fb9f3a\"], [0.8888888888888888, \"#fdca26\"], [1.0, \"#f0f921\"]], \"type\": \"heatmapgl\"}], \"histogram\": [{\"marker\": {\"colorbar\": {\"outlinewidth\": 0, \"ticks\": \"\"}}, \"type\": \"histogram\"}], \"histogram2d\": [{\"colorbar\": {\"outlinewidth\": 0, \"ticks\": \"\"}, \"colorscale\": [[0.0, \"#0d0887\"], [0.1111111111111111, \"#46039f\"], [0.2222222222222222, \"#7201a8\"], [0.3333333333333333, \"#9c179e\"], [0.4444444444444444, \"#bd3786\"], [0.5555555555555556, \"#d8576b\"], [0.6666666666666666, \"#ed7953\"], [0.7777777777777778, \"#fb9f3a\"], [0.8888888888888888, \"#fdca26\"], [1.0, \"#f0f921\"]], \"type\": \"histogram2d\"}], \"histogram2dcontour\": [{\"colorbar\": {\"outlinewidth\": 0, \"ticks\": \"\"}, \"colorscale\": [[0.0, \"#0d0887\"], [0.1111111111111111, \"#46039f\"], [0.2222222222222222, \"#7201a8\"], [0.3333333333333333, \"#9c179e\"], [0.4444444444444444, \"#bd3786\"], [0.5555555555555556, \"#d8576b\"], [0.6666666666666666, \"#ed7953\"], [0.7777777777777778, \"#fb9f3a\"], [0.8888888888888888, \"#fdca26\"], [1.0, \"#f0f921\"]], \"type\": \"histogram2dcontour\"}], \"mesh3d\": [{\"colorbar\": {\"outlinewidth\": 0, \"ticks\": \"\"}, \"type\": \"mesh3d\"}], \"parcoords\": [{\"line\": {\"colorbar\": {\"outlinewidth\": 0, \"ticks\": \"\"}}, \"type\": \"parcoords\"}], \"pie\": [{\"automargin\": true, \"type\": \"pie\"}], \"scatter\": [{\"marker\": {\"colorbar\": {\"outlinewidth\": 0, \"ticks\": \"\"}}, \"type\": \"scatter\"}], \"scatter3d\": [{\"line\": {\"colorbar\": {\"outlinewidth\": 0, \"ticks\": \"\"}}, \"marker\": {\"colorbar\": {\"outlinewidth\": 0, \"ticks\": \"\"}}, \"type\": \"scatter3d\"}], \"scattercarpet\": [{\"marker\": {\"colorbar\": {\"outlinewidth\": 0, \"ticks\": \"\"}}, \"type\": \"scattercarpet\"}], \"scattergeo\": [{\"marker\": {\"colorbar\": {\"outlinewidth\": 0, \"ticks\": \"\"}}, \"type\": \"scattergeo\"}], \"scattergl\": [{\"marker\": {\"colorbar\": {\"outlinewidth\": 0, \"ticks\": \"\"}}, \"type\": \"scattergl\"}], \"scattermapbox\": [{\"marker\": {\"colorbar\": {\"outlinewidth\": 0, \"ticks\": \"\"}}, \"type\": \"scattermapbox\"}], \"scatterpolar\": [{\"marker\": {\"colorbar\": {\"outlinewidth\": 0, \"ticks\": \"\"}}, \"type\": \"scatterpolar\"}], \"scatterpolargl\": [{\"marker\": {\"colorbar\": {\"outlinewidth\": 0, \"ticks\": \"\"}}, \"type\": \"scatterpolargl\"}], \"scatterternary\": [{\"marker\": {\"colorbar\": {\"outlinewidth\": 0, \"ticks\": \"\"}}, \"type\": \"scatterternary\"}], \"surface\": [{\"colorbar\": {\"outlinewidth\": 0, \"ticks\": \"\"}, \"colorscale\": [[0.0, \"#0d0887\"], [0.1111111111111111, \"#46039f\"], [0.2222222222222222, \"#7201a8\"], [0.3333333333333333, \"#9c179e\"], [0.4444444444444444, \"#bd3786\"], [0.5555555555555556, \"#d8576b\"], [0.6666666666666666, \"#ed7953\"], [0.7777777777777778, \"#fb9f3a\"], [0.8888888888888888, \"#fdca26\"], [1.0, \"#f0f921\"]], \"type\": \"surface\"}], \"table\": [{\"cells\": {\"fill\": {\"color\": \"#EBF0F8\"}, \"line\": {\"color\": \"white\"}}, \"header\": {\"fill\": {\"color\": \"#C8D4E3\"}, \"line\": {\"color\": \"white\"}}, \"type\": \"table\"}]}, \"layout\": {\"annotationdefaults\": {\"arrowcolor\": \"#2a3f5f\", \"arrowhead\": 0, \"arrowwidth\": 1}, \"coloraxis\": {\"colorbar\": {\"outlinewidth\": 0, \"ticks\": \"\"}}, \"colorscale\": {\"diverging\": [[0, \"#8e0152\"], [0.1, \"#c51b7d\"], [0.2, \"#de77ae\"], [0.3, \"#f1b6da\"], [0.4, \"#fde0ef\"], [0.5, \"#f7f7f7\"], [0.6, \"#e6f5d0\"], [0.7, \"#b8e186\"], [0.8, \"#7fbc41\"], [0.9, \"#4d9221\"], [1, \"#276419\"]], \"sequential\": [[0.0, \"#0d0887\"], [0.1111111111111111, \"#46039f\"], [0.2222222222222222, \"#7201a8\"], [0.3333333333333333, \"#9c179e\"], [0.4444444444444444, \"#bd3786\"], [0.5555555555555556, \"#d8576b\"], [0.6666666666666666, \"#ed7953\"], [0.7777777777777778, \"#fb9f3a\"], [0.8888888888888888, \"#fdca26\"], [1.0, \"#f0f921\"]], \"sequentialminus\": [[0.0, \"#0d0887\"], [0.1111111111111111, \"#46039f\"], [0.2222222222222222, \"#7201a8\"], [0.3333333333333333, \"#9c179e\"], [0.4444444444444444, \"#bd3786\"], [0.5555555555555556, \"#d8576b\"], [0.6666666666666666, \"#ed7953\"], [0.7777777777777778, \"#fb9f3a\"], [0.8888888888888888, \"#fdca26\"], [1.0, \"#f0f921\"]]}, \"colorway\": [\"#636efa\", \"#EF553B\", \"#00cc96\", \"#ab63fa\", \"#FFA15A\", \"#19d3f3\", \"#FF6692\", \"#B6E880\", \"#FF97FF\", \"#FECB52\"], \"font\": {\"color\": \"#2a3f5f\"}, \"geo\": {\"bgcolor\": \"white\", \"lakecolor\": \"white\", \"landcolor\": \"#E5ECF6\", \"showlakes\": true, \"showland\": true, \"subunitcolor\": \"white\"}, \"hoverlabel\": {\"align\": \"left\"}, \"hovermode\": \"closest\", \"mapbox\": {\"style\": \"light\"}, \"paper_bgcolor\": \"white\", \"plot_bgcolor\": \"#E5ECF6\", \"polar\": {\"angularaxis\": {\"gridcolor\": \"white\", \"linecolor\": \"white\", \"ticks\": \"\"}, \"bgcolor\": \"#E5ECF6\", \"radialaxis\": {\"gridcolor\": \"white\", \"linecolor\": \"white\", \"ticks\": \"\"}}, \"scene\": {\"xaxis\": {\"backgroundcolor\": \"#E5ECF6\", \"gridcolor\": \"white\", \"gridwidth\": 2, \"linecolor\": \"white\", \"showbackground\": true, \"ticks\": \"\", \"zerolinecolor\": \"white\"}, \"yaxis\": {\"backgroundcolor\": \"#E5ECF6\", \"gridcolor\": \"white\", \"gridwidth\": 2, \"linecolor\": \"white\", \"showbackground\": true, \"ticks\": \"\", \"zerolinecolor\": \"white\"}, \"zaxis\": {\"backgroundcolor\": \"#E5ECF6\", \"gridcolor\": \"white\", \"gridwidth\": 2, \"linecolor\": \"white\", \"showbackground\": true, \"ticks\": \"\", \"zerolinecolor\": \"white\"}}, \"shapedefaults\": {\"line\": {\"color\": \"#2a3f5f\"}}, \"ternary\": {\"aaxis\": {\"gridcolor\": \"white\", \"linecolor\": \"white\", \"ticks\": \"\"}, \"baxis\": {\"gridcolor\": \"white\", \"linecolor\": \"white\", \"ticks\": \"\"}, \"bgcolor\": \"#E5ECF6\", \"caxis\": {\"gridcolor\": \"white\", \"linecolor\": \"white\", \"ticks\": \"\"}}, \"title\": {\"x\": 0.05}, \"xaxis\": {\"automargin\": true, \"gridcolor\": \"white\", \"linecolor\": \"white\", \"ticks\": \"\", \"title\": {\"standoff\": 15}, \"zerolinecolor\": \"white\", \"zerolinewidth\": 2}, \"yaxis\": {\"automargin\": true, \"gridcolor\": \"white\", \"linecolor\": \"white\", \"ticks\": \"\", \"title\": {\"standoff\": 15}, \"zerolinecolor\": \"white\", \"zerolinewidth\": 2}}}, \"title\": {\"text\": \"WAP of stock_id_0, time_id_5\"}, \"xaxis\": {\"anchor\": \"y\", \"domain\": [0.0, 1.0], \"title\": {\"text\": \"seconds_in_bucket\"}}, \"yaxis\": {\"anchor\": \"x\", \"domain\": [0.0, 1.0], \"title\": {\"text\": \"wap\"}}},\n",
              "                        {\"responsive\": true}\n",
              "                    ).then(function(){\n",
              "                            \n",
              "var gd = document.getElementById('cb7b6635-091d-476b-848a-1da091394d79');\n",
              "var x = new MutationObserver(function (mutations, observer) {{\n",
              "        var display = window.getComputedStyle(gd).display;\n",
              "        if (!display || display === 'none') {{\n",
              "            console.log([gd, 'removed!']);\n",
              "            Plotly.purge(gd);\n",
              "            observer.disconnect();\n",
              "        }}\n",
              "}});\n",
              "\n",
              "// Listen for the removal of the full notebook cells\n",
              "var notebookContainer = gd.closest('#notebook-container');\n",
              "if (notebookContainer) {{\n",
              "    x.observe(notebookContainer, {childList: true});\n",
              "}}\n",
              "\n",
              "// Listen for the clearing of the current output cell\n",
              "var outputEl = gd.closest('.output');\n",
              "if (outputEl) {{\n",
              "    x.observe(outputEl, {childList: true});\n",
              "}}\n",
              "\n",
              "                        })\n",
              "                };\n",
              "                \n",
              "            </script>\n",
              "        </div>\n",
              "</body>\n",
              "</html>"
            ]
          },
          "metadata": {
            "tags": []
          }
        }
      ]
    },
    {
      "cell_type": "code",
      "metadata": {
        "id": "8St2L-su4p7A"
      },
      "source": [
        "def log_return(list_stock_prices):\n",
        "    return np.log(list_stock_prices).diff() "
      ],
      "execution_count": 83,
      "outputs": []
    },
    {
      "cell_type": "code",
      "metadata": {
        "id": "8XE4cXjo4xaV"
      },
      "source": [
        "book_example.loc[:,'log_return'] = log_return(book_example['wap'])\n",
        "book_example = book_example[~book_example['log_return'].isnull()]"
      ],
      "execution_count": 47,
      "outputs": []
    },
    {
      "cell_type": "code",
      "metadata": {
        "colab": {
          "base_uri": "https://localhost:8080/",
          "height": 204
        },
        "id": "GBISWnIPeZmE",
        "outputId": "5a540900-510d-4094-ce0b-96dc757e0f5f"
      },
      "source": [
        "book_example.head()"
      ],
      "execution_count": 48,
      "outputs": [
        {
          "output_type": "execute_result",
          "data": {
            "text/html": [
              "<div>\n",
              "<style scoped>\n",
              "    .dataframe tbody tr th:only-of-type {\n",
              "        vertical-align: middle;\n",
              "    }\n",
              "\n",
              "    .dataframe tbody tr th {\n",
              "        vertical-align: top;\n",
              "    }\n",
              "\n",
              "    .dataframe thead th {\n",
              "        text-align: right;\n",
              "    }\n",
              "</style>\n",
              "<table border=\"1\" class=\"dataframe\">\n",
              "  <thead>\n",
              "    <tr style=\"text-align: right;\">\n",
              "      <th></th>\n",
              "      <th>time_id</th>\n",
              "      <th>seconds_in_bucket</th>\n",
              "      <th>bid_price1</th>\n",
              "      <th>ask_price1</th>\n",
              "      <th>bid_price2</th>\n",
              "      <th>ask_price2</th>\n",
              "      <th>bid_size1</th>\n",
              "      <th>ask_size1</th>\n",
              "      <th>bid_size2</th>\n",
              "      <th>ask_size2</th>\n",
              "      <th>stock_id</th>\n",
              "      <th>wap</th>\n",
              "      <th>log_return</th>\n",
              "    </tr>\n",
              "  </thead>\n",
              "  <tbody>\n",
              "    <tr>\n",
              "      <th>1</th>\n",
              "      <td>5</td>\n",
              "      <td>1</td>\n",
              "      <td>1.001422</td>\n",
              "      <td>1.002301</td>\n",
              "      <td>1.00137</td>\n",
              "      <td>1.002353</td>\n",
              "      <td>3</td>\n",
              "      <td>100</td>\n",
              "      <td>2</td>\n",
              "      <td>100</td>\n",
              "      <td>0</td>\n",
              "      <td>1.001448</td>\n",
              "      <td>0.000014</td>\n",
              "    </tr>\n",
              "    <tr>\n",
              "      <th>2</th>\n",
              "      <td>5</td>\n",
              "      <td>5</td>\n",
              "      <td>1.001422</td>\n",
              "      <td>1.002301</td>\n",
              "      <td>1.00137</td>\n",
              "      <td>1.002405</td>\n",
              "      <td>3</td>\n",
              "      <td>100</td>\n",
              "      <td>2</td>\n",
              "      <td>100</td>\n",
              "      <td>0</td>\n",
              "      <td>1.001448</td>\n",
              "      <td>0.000000</td>\n",
              "    </tr>\n",
              "    <tr>\n",
              "      <th>3</th>\n",
              "      <td>5</td>\n",
              "      <td>6</td>\n",
              "      <td>1.001422</td>\n",
              "      <td>1.002301</td>\n",
              "      <td>1.00137</td>\n",
              "      <td>1.002405</td>\n",
              "      <td>3</td>\n",
              "      <td>126</td>\n",
              "      <td>2</td>\n",
              "      <td>100</td>\n",
              "      <td>0</td>\n",
              "      <td>1.001443</td>\n",
              "      <td>-0.000005</td>\n",
              "    </tr>\n",
              "    <tr>\n",
              "      <th>4</th>\n",
              "      <td>5</td>\n",
              "      <td>7</td>\n",
              "      <td>1.001422</td>\n",
              "      <td>1.002301</td>\n",
              "      <td>1.00137</td>\n",
              "      <td>1.002405</td>\n",
              "      <td>3</td>\n",
              "      <td>126</td>\n",
              "      <td>2</td>\n",
              "      <td>100</td>\n",
              "      <td>0</td>\n",
              "      <td>1.001443</td>\n",
              "      <td>0.000000</td>\n",
              "    </tr>\n",
              "    <tr>\n",
              "      <th>5</th>\n",
              "      <td>5</td>\n",
              "      <td>11</td>\n",
              "      <td>1.001422</td>\n",
              "      <td>1.002301</td>\n",
              "      <td>1.00137</td>\n",
              "      <td>1.002405</td>\n",
              "      <td>3</td>\n",
              "      <td>100</td>\n",
              "      <td>2</td>\n",
              "      <td>100</td>\n",
              "      <td>0</td>\n",
              "      <td>1.001448</td>\n",
              "      <td>0.000005</td>\n",
              "    </tr>\n",
              "  </tbody>\n",
              "</table>\n",
              "</div>"
            ],
            "text/plain": [
              "   time_id  seconds_in_bucket  bid_price1  ask_price1  bid_price2  ask_price2  \\\n",
              "1        5                  1    1.001422    1.002301     1.00137    1.002353   \n",
              "2        5                  5    1.001422    1.002301     1.00137    1.002405   \n",
              "3        5                  6    1.001422    1.002301     1.00137    1.002405   \n",
              "4        5                  7    1.001422    1.002301     1.00137    1.002405   \n",
              "5        5                 11    1.001422    1.002301     1.00137    1.002405   \n",
              "\n",
              "   bid_size1  ask_size1  bid_size2  ask_size2 stock_id       wap  log_return  \n",
              "1          3        100          2        100        0  1.001448    0.000014  \n",
              "2          3        100          2        100        0  1.001448    0.000000  \n",
              "3          3        126          2        100        0  1.001443   -0.000005  \n",
              "4          3        126          2        100        0  1.001443    0.000000  \n",
              "5          3        100          2        100        0  1.001448    0.000005  "
            ]
          },
          "metadata": {
            "tags": []
          },
          "execution_count": 48
        }
      ]
    },
    {
      "cell_type": "code",
      "metadata": {
        "colab": {
          "base_uri": "https://localhost:8080/",
          "height": 542
        },
        "id": "tpKyUcXN40ND",
        "outputId": "0be256b0-ee43-4f36-d100-f5dfbe3e9cc0"
      },
      "source": [
        "fig = px.line(book_example, x=\"seconds_in_bucket\", y=\"log_return\", title='Log return of stock_id_0, time_id_5')\n",
        "fig.show()"
      ],
      "execution_count": 49,
      "outputs": [
        {
          "output_type": "display_data",
          "data": {
            "text/html": [
              "<html>\n",
              "<head><meta charset=\"utf-8\" /></head>\n",
              "<body>\n",
              "    <div>\n",
              "            <script src=\"https://cdnjs.cloudflare.com/ajax/libs/mathjax/2.7.5/MathJax.js?config=TeX-AMS-MML_SVG\"></script><script type=\"text/javascript\">if (window.MathJax) {MathJax.Hub.Config({SVG: {font: \"STIX-Web\"}});}</script>\n",
              "                <script type=\"text/javascript\">window.PlotlyConfig = {MathJaxConfig: 'local'};</script>\n",
              "        <script src=\"https://cdn.plot.ly/plotly-latest.min.js\"></script>    \n",
              "            <div id=\"a4cbb66a-cfe2-4b54-9b96-f0fd04cf376b\" class=\"plotly-graph-div\" style=\"height:525px; width:100%;\"></div>\n",
              "            <script type=\"text/javascript\">\n",
              "                \n",
              "                    window.PLOTLYENV=window.PLOTLYENV || {};\n",
              "                    \n",
              "                if (document.getElementById(\"a4cbb66a-cfe2-4b54-9b96-f0fd04cf376b\")) {\n",
              "                    Plotly.newPlot(\n",
              "                        'a4cbb66a-cfe2-4b54-9b96-f0fd04cf376b',\n",
              "                        [{\"hoverlabel\": {\"namelength\": 0}, \"hovertemplate\": \"seconds_in_bucket=%{x}<br>log_return=%{y}\", \"legendgroup\": \"\", \"line\": {\"color\": \"#636efa\", \"dash\": \"solid\"}, \"mode\": \"lines\", \"name\": \"\", \"showlegend\": false, \"type\": \"scatter\", \"x\": [1, 5, 6, 7, 11, 12, 14, 15, 16, 17, 18, 19, 21, 24, 25, 44, 46, 47, 48, 50, 51, 55, 57, 59, 60, 63, 68, 69, 78, 79, 81, 83, 85, 90, 92, 93, 94, 97, 98, 101, 103, 105, 106, 110, 111, 113, 114, 115, 118, 119, 122, 123, 124, 126, 127, 128, 129, 132, 133, 134, 138, 140, 141, 143, 144, 145, 147, 148, 149, 150, 151, 152, 153, 154, 158, 159, 160, 161, 164, 165, 166, 167, 168, 169, 171, 173, 174, 175, 177, 178, 181, 182, 183, 185, 186, 187, 188, 189, 190, 191, 192, 193, 194, 195, 196, 197, 198, 199, 200, 201, 203, 204, 205, 206, 207, 209, 211, 212, 213, 215, 216, 218, 219, 221, 222, 223, 224, 225, 226, 227, 228, 230, 231, 232, 233, 234, 235, 237, 239, 248, 253, 254, 255, 256, 257, 258, 259, 260, 263, 264, 265, 269, 278, 282, 283, 287, 288, 290, 293, 295, 296, 298, 301, 303, 304, 305, 306, 308, 309, 310, 311, 312, 313, 314, 316, 322, 323, 329, 331, 336, 338, 340, 345, 348, 350, 353, 356, 363, 365, 366, 367, 374, 378, 380, 382, 385, 386, 388, 389, 391, 394, 398, 399, 400, 401, 402, 403, 404, 406, 410, 411, 416, 425, 426, 427, 428, 430, 431, 433, 434, 435, 437, 438, 440, 441, 442, 443, 444, 445, 446, 447, 448, 449, 464, 465, 466, 467, 470, 471, 472, 473, 474, 475, 477, 478, 479, 488, 489, 495, 496, 498, 503, 511, 513, 514, 515, 516, 518, 519, 520, 521, 522, 523, 524, 525, 526, 528, 531, 532, 534, 535, 538, 539, 540, 541, 542, 545, 546, 548, 549, 550, 551, 552, 555, 558, 561, 562, 563, 571, 572, 573, 574, 575, 579, 581, 584, 585, 586, 587, 588, 593], \"xaxis\": \"x\", \"y\": [1.4069088671764826e-05, 0.0, -5.1536225261729005e-06, 0.0, 5.1536225261729005e-06, -5.1536225261729005e-06, 0.0, 0.0, 0.0, 5.1536225261729005e-06, -5.1536225261729005e-06, 0.0, 0.00010633138311186307, 0.001049148536200136, -7.010084751142391e-05, 1.4336217725433378e-05, 0.0006830960240321884, -4.721204157526887e-06, -0.0002597005609105249, -0.0005221676848391342, 0.0, 0.0, 0.0008135859336718815, 0.0003656581975727026, -1.1459630216459002e-05, -0.000186183740954941, -0.00011507462853035076, -0.00039783185419059496, 0.0009665570260937802, 0.00021989575198349143, 2.314434971047684e-06, -2.314434971047684e-06, 1.4098625513107171e-06, 3.634622352686155e-05, -1.030582962953993e-05, -2.5135821477584655e-05, 0.0, 2.5135821477584655e-05, -4.488484147222721e-07, -2.7001408033910067e-05, 0.0, 0.0, 0.0, 1.2920764736698044e-05, 6.615366925530504e-06, -0.0002940437008734733, 0.00016542972066674278, -2.3646703174550268e-05, -4.992742189017206e-05, -0.00012046981229232347, 0.0003001262293834458, -1.0722950053599495e-06, 0.0, 0.0004388746835462618, -0.0003535107842753361, 0.0007178611744355018, 1.5412634680595644e-05, -4.63200744676498e-05, -0.00025828651021528055, 0.0, 0.0, -0.0002733671298145975, 0.0, 0.000338459669663449, -0.0005307254850483939, -1.0326148600029589e-06, -0.00013631452231146514, -0.0005568810757034981, 5.284438973673748e-06, 0.0, 9.454708706913787e-06, 0.0004906894584374094, -0.0004922249655282965, -3.3939306866249616e-07, 0.000492564358596959, -0.000490759650744371, 0.000490759650744371, -0.000505428606117997, -5.878155953436756e-08, 5.878155953436756e-08, -5.878155953436756e-08, 5.878155953436756e-08, 0.0, 1.5064826338055236e-05, -3.958709644293068e-07, 0.000490759650744371, -0.0004903637797799417, -3.958709644293068e-07, 0.00047508640256284027, -0.00012432671498886771, -3.318784823533923e-05, 1.0962852537658302e-06, 3.20915629815734e-05, 0.0001464514564408449, 0.0, 0.0004999037225097234, -0.00014587258343784406, -8.293758799327294e-05, 0.00033014922638548595, -0.00048138348113190704, -3.0179291187484684e-05, -2.2385543126980656e-06, 2.2385543126980656e-06, -2.2385543126980656e-06, -4.6971163754080426e-05, 2.6020030637975526e-05, -2.369141425876721e-05, -4.589735426527991e-06, 0.0, 2.261119047319675e-06, 0.00044990529474803285, -0.00047108071997285696, -2.178314402466984e-06, -4.292259014463014e-06, 0.0001705986269452675, -0.00042741110535926856, 0.00036954366099829295, -0.00014174895071626843, 0.0, 0.0, 0.0, 0.00010159210199451804, 0.00011847096080419128, 6.781615874308991e-06, -0.0002317707500779139, 0.0003765084732866419, 0.0003088299024820683, -3.0222762904790444e-05, 4.09420961846119e-05, -3.546766103439906e-05, -0.00025679593981573715, -0.00048070920050646837, 0.00047770616009491524, 3.0030404115531303e-06, 2.517024633766178e-05, 0.000145775397112715, -0.00014352452753462527, 1.836708383754458e-05, 0.0, -2.686692401599605e-06, -2.6571754090064237e-06, -0.00045788910203338126, 0.0, -0.00025536453374374636, 0.00043105126316923294, 0.0, 0.0, 0.0, -5.089767354171312e-07, -0.0003529725049225014, -0.0003517667373081515, 0.00046173387013595394, 0.00014759880871268415, 2.715000536431412e-05, -0.0004404758577894693, -0.00014711435512715886, 0.00011219051166624005, 6.692564263714729e-08, 5.064027306671617e-06, 1.493223891695138e-05, 3.056515059762614e-07, -4.976063503226401e-06, 0.0003695243343602751, 7.126942219778248e-05, -0.0003119204936629025, 0.0, 0.00016929435845011893, -0.00010449384536938711, 0.0, 0.0003325347331154145, -3.908885041868301e-06, 0.0005735870137225001, -0.0003971562991775578, 0.0, -0.00022424038849106018, 0.0006150574278845945, -0.0008962482536088315, -8.870969276414137e-06, 0.0003046050495861068, 0.0, 0.0, -0.0006167168891729161, 0.00031224889666066737, 4.567876506174524e-06, -4.567876506174524e-06, 4.567876506174524e-06, -4.567876506174524e-06, 4.567876506174524e-06, -4.567876506174524e-06, 0.00024127907862165395, 8.903562982265183e-06, 0.00015262018173070255, -0.00012679051352536448, 0.00038074940623482496, 3.498797406832621e-08, 0.0, 0.0, -3.498797406832621e-08, 3.581954223024278e-06, 0.0, 2.57410179058757e-05, -0.00024969314438048375, -0.0006705221071957113, 0.0, 0.0007422423659862436, -0.0007892574071252413, 0.0005036718256860844, -7.724105866599917e-05, -0.00023184805941794864, 0.0006653895270886351, 0.0, -9.613476559100671e-06, -0.00013951841048818157, -0.00034098760229955144, 0.0, 2.5125481457541343e-08, 0.0003037282214945385, -0.0001666088431894596, -0.00011935727434643799, 2.4971519333494112e-05, 0.0002053487871503377, -0.00017255226537336247, 5.4871946480757224e-05, 2.0488338709804925e-05, -7.734741478885102e-05, 5.685907607904609e-05, 2.293281737236058e-05, -7.78047638531178e-05, 9.805772681529493e-05, -7.364688339509505e-05, 0.0, 8.110567703610225e-06, 0.00013734845505063934, -0.00038638021233189726, 0.00029646037343952856, -0.00018624255861695747, -7.318267706089149e-07, -0.0003579344091248415, -0.00012407467861116775, 0.00035985706806118244, -5.211741441697466e-05, 0.00024015393658844341, -3.2735011625901946e-05, -0.00033151598457213747, 0.000306695708202838, 2.4820276369299458e-05, 0.00014275505825348239, -2.020828793993651e-06, -4.464459537886767e-05, 4.8132261323105725e-05, 8.048442596605282e-07, 5.487865955928692e-06, -8.285417804423933e-05, 1.0216727335029402e-06, -0.0002284204763377596, 0.00010948614575105684, 1.1106620444914072e-05, -7.051808207818051e-06, -0.00020435745991433975, -4.31110658735169e-07, 0.00037323295516358953, -1.584804953465909e-05, -0.00033743704197754633, -5.745973805960924e-07, -4.563631734030415e-05, 0.0, 2.66941617282513e-05, 1.2726035571712039e-05, 0.0, 0.0003152953001487541, -2.379702192162325e-06, -0.0003252036800335126, -9.5140065944385e-06, -0.0003822993630284233, -5.9671875348417305e-05, -8.027252257270055e-06, 0.0003122611594329073, 0.0, -0.00011454894474575549, -0.0005614600591948883, -0.00010338127055194287, -0.000613845218483258, -1.0520007153727237e-07, 0.0, 0.0, 0.0003248033512670101, 0.00030945799289339073, -2.1811232903640003e-06, 2.5927111366546435e-05, 0.0004897437440894055, 5.369043672581904e-05, 0.0, 0.00014832501583113625, 0.0, 0.00021338123323559914, -0.00013468833167165324, 0.0002445792688374111, 0.0, 0.0, 0.0, 0.0], \"yaxis\": \"y\"}],\n",
              "                        {\"legend\": {\"tracegroupgap\": 0}, \"template\": {\"data\": {\"bar\": [{\"error_x\": {\"color\": \"#2a3f5f\"}, \"error_y\": {\"color\": \"#2a3f5f\"}, \"marker\": {\"line\": {\"color\": \"#E5ECF6\", \"width\": 0.5}}, \"type\": \"bar\"}], \"barpolar\": [{\"marker\": {\"line\": {\"color\": \"#E5ECF6\", \"width\": 0.5}}, \"type\": \"barpolar\"}], \"carpet\": [{\"aaxis\": {\"endlinecolor\": \"#2a3f5f\", \"gridcolor\": \"white\", \"linecolor\": \"white\", \"minorgridcolor\": \"white\", \"startlinecolor\": \"#2a3f5f\"}, \"baxis\": {\"endlinecolor\": \"#2a3f5f\", \"gridcolor\": \"white\", \"linecolor\": \"white\", \"minorgridcolor\": \"white\", \"startlinecolor\": \"#2a3f5f\"}, \"type\": \"carpet\"}], \"choropleth\": [{\"colorbar\": {\"outlinewidth\": 0, \"ticks\": \"\"}, \"type\": \"choropleth\"}], \"contour\": [{\"colorbar\": {\"outlinewidth\": 0, \"ticks\": \"\"}, \"colorscale\": [[0.0, \"#0d0887\"], [0.1111111111111111, \"#46039f\"], [0.2222222222222222, \"#7201a8\"], [0.3333333333333333, \"#9c179e\"], [0.4444444444444444, \"#bd3786\"], [0.5555555555555556, \"#d8576b\"], [0.6666666666666666, \"#ed7953\"], [0.7777777777777778, \"#fb9f3a\"], [0.8888888888888888, \"#fdca26\"], [1.0, \"#f0f921\"]], \"type\": \"contour\"}], \"contourcarpet\": [{\"colorbar\": {\"outlinewidth\": 0, \"ticks\": \"\"}, \"type\": \"contourcarpet\"}], \"heatmap\": [{\"colorbar\": {\"outlinewidth\": 0, \"ticks\": \"\"}, \"colorscale\": [[0.0, \"#0d0887\"], [0.1111111111111111, \"#46039f\"], [0.2222222222222222, \"#7201a8\"], [0.3333333333333333, \"#9c179e\"], [0.4444444444444444, \"#bd3786\"], [0.5555555555555556, \"#d8576b\"], [0.6666666666666666, \"#ed7953\"], [0.7777777777777778, \"#fb9f3a\"], [0.8888888888888888, \"#fdca26\"], [1.0, \"#f0f921\"]], \"type\": \"heatmap\"}], \"heatmapgl\": [{\"colorbar\": {\"outlinewidth\": 0, \"ticks\": \"\"}, \"colorscale\": [[0.0, \"#0d0887\"], [0.1111111111111111, \"#46039f\"], [0.2222222222222222, \"#7201a8\"], [0.3333333333333333, \"#9c179e\"], [0.4444444444444444, \"#bd3786\"], [0.5555555555555556, \"#d8576b\"], [0.6666666666666666, \"#ed7953\"], [0.7777777777777778, \"#fb9f3a\"], [0.8888888888888888, \"#fdca26\"], [1.0, \"#f0f921\"]], \"type\": \"heatmapgl\"}], \"histogram\": [{\"marker\": {\"colorbar\": {\"outlinewidth\": 0, \"ticks\": \"\"}}, \"type\": \"histogram\"}], \"histogram2d\": [{\"colorbar\": {\"outlinewidth\": 0, \"ticks\": \"\"}, \"colorscale\": [[0.0, \"#0d0887\"], [0.1111111111111111, \"#46039f\"], [0.2222222222222222, \"#7201a8\"], [0.3333333333333333, \"#9c179e\"], [0.4444444444444444, \"#bd3786\"], [0.5555555555555556, \"#d8576b\"], [0.6666666666666666, \"#ed7953\"], [0.7777777777777778, \"#fb9f3a\"], [0.8888888888888888, \"#fdca26\"], [1.0, \"#f0f921\"]], \"type\": \"histogram2d\"}], \"histogram2dcontour\": [{\"colorbar\": {\"outlinewidth\": 0, \"ticks\": \"\"}, \"colorscale\": [[0.0, \"#0d0887\"], [0.1111111111111111, \"#46039f\"], [0.2222222222222222, \"#7201a8\"], [0.3333333333333333, \"#9c179e\"], [0.4444444444444444, \"#bd3786\"], [0.5555555555555556, \"#d8576b\"], [0.6666666666666666, \"#ed7953\"], [0.7777777777777778, \"#fb9f3a\"], [0.8888888888888888, \"#fdca26\"], [1.0, \"#f0f921\"]], \"type\": \"histogram2dcontour\"}], \"mesh3d\": [{\"colorbar\": {\"outlinewidth\": 0, \"ticks\": \"\"}, \"type\": \"mesh3d\"}], \"parcoords\": [{\"line\": {\"colorbar\": {\"outlinewidth\": 0, \"ticks\": \"\"}}, \"type\": \"parcoords\"}], \"pie\": [{\"automargin\": true, \"type\": \"pie\"}], \"scatter\": [{\"marker\": {\"colorbar\": {\"outlinewidth\": 0, \"ticks\": \"\"}}, \"type\": \"scatter\"}], \"scatter3d\": [{\"line\": {\"colorbar\": {\"outlinewidth\": 0, \"ticks\": \"\"}}, \"marker\": {\"colorbar\": {\"outlinewidth\": 0, \"ticks\": \"\"}}, \"type\": \"scatter3d\"}], \"scattercarpet\": [{\"marker\": {\"colorbar\": {\"outlinewidth\": 0, \"ticks\": \"\"}}, \"type\": \"scattercarpet\"}], \"scattergeo\": [{\"marker\": {\"colorbar\": {\"outlinewidth\": 0, \"ticks\": \"\"}}, \"type\": \"scattergeo\"}], \"scattergl\": [{\"marker\": {\"colorbar\": {\"outlinewidth\": 0, \"ticks\": \"\"}}, \"type\": \"scattergl\"}], \"scattermapbox\": [{\"marker\": {\"colorbar\": {\"outlinewidth\": 0, \"ticks\": \"\"}}, \"type\": \"scattermapbox\"}], \"scatterpolar\": [{\"marker\": {\"colorbar\": {\"outlinewidth\": 0, \"ticks\": \"\"}}, \"type\": \"scatterpolar\"}], \"scatterpolargl\": [{\"marker\": {\"colorbar\": {\"outlinewidth\": 0, \"ticks\": \"\"}}, \"type\": \"scatterpolargl\"}], \"scatterternary\": [{\"marker\": {\"colorbar\": {\"outlinewidth\": 0, \"ticks\": \"\"}}, \"type\": \"scatterternary\"}], \"surface\": [{\"colorbar\": {\"outlinewidth\": 0, \"ticks\": \"\"}, \"colorscale\": [[0.0, \"#0d0887\"], [0.1111111111111111, \"#46039f\"], [0.2222222222222222, \"#7201a8\"], [0.3333333333333333, \"#9c179e\"], [0.4444444444444444, \"#bd3786\"], [0.5555555555555556, \"#d8576b\"], [0.6666666666666666, \"#ed7953\"], [0.7777777777777778, \"#fb9f3a\"], [0.8888888888888888, \"#fdca26\"], [1.0, \"#f0f921\"]], \"type\": \"surface\"}], \"table\": [{\"cells\": {\"fill\": {\"color\": \"#EBF0F8\"}, \"line\": {\"color\": \"white\"}}, \"header\": {\"fill\": {\"color\": \"#C8D4E3\"}, \"line\": {\"color\": \"white\"}}, \"type\": \"table\"}]}, \"layout\": {\"annotationdefaults\": {\"arrowcolor\": \"#2a3f5f\", \"arrowhead\": 0, \"arrowwidth\": 1}, \"coloraxis\": {\"colorbar\": {\"outlinewidth\": 0, \"ticks\": \"\"}}, \"colorscale\": {\"diverging\": [[0, \"#8e0152\"], [0.1, \"#c51b7d\"], [0.2, \"#de77ae\"], [0.3, \"#f1b6da\"], [0.4, \"#fde0ef\"], [0.5, \"#f7f7f7\"], [0.6, \"#e6f5d0\"], [0.7, \"#b8e186\"], [0.8, \"#7fbc41\"], [0.9, \"#4d9221\"], [1, \"#276419\"]], \"sequential\": [[0.0, \"#0d0887\"], [0.1111111111111111, \"#46039f\"], [0.2222222222222222, \"#7201a8\"], [0.3333333333333333, \"#9c179e\"], [0.4444444444444444, \"#bd3786\"], [0.5555555555555556, \"#d8576b\"], [0.6666666666666666, \"#ed7953\"], [0.7777777777777778, \"#fb9f3a\"], [0.8888888888888888, \"#fdca26\"], [1.0, \"#f0f921\"]], \"sequentialminus\": [[0.0, \"#0d0887\"], [0.1111111111111111, \"#46039f\"], [0.2222222222222222, \"#7201a8\"], [0.3333333333333333, \"#9c179e\"], [0.4444444444444444, \"#bd3786\"], [0.5555555555555556, \"#d8576b\"], [0.6666666666666666, \"#ed7953\"], [0.7777777777777778, \"#fb9f3a\"], [0.8888888888888888, \"#fdca26\"], [1.0, \"#f0f921\"]]}, \"colorway\": [\"#636efa\", \"#EF553B\", \"#00cc96\", \"#ab63fa\", \"#FFA15A\", \"#19d3f3\", \"#FF6692\", \"#B6E880\", \"#FF97FF\", \"#FECB52\"], \"font\": {\"color\": \"#2a3f5f\"}, \"geo\": {\"bgcolor\": \"white\", \"lakecolor\": \"white\", \"landcolor\": \"#E5ECF6\", \"showlakes\": true, \"showland\": true, \"subunitcolor\": \"white\"}, \"hoverlabel\": {\"align\": \"left\"}, \"hovermode\": \"closest\", \"mapbox\": {\"style\": \"light\"}, \"paper_bgcolor\": \"white\", \"plot_bgcolor\": \"#E5ECF6\", \"polar\": {\"angularaxis\": {\"gridcolor\": \"white\", \"linecolor\": \"white\", \"ticks\": \"\"}, \"bgcolor\": \"#E5ECF6\", \"radialaxis\": {\"gridcolor\": \"white\", \"linecolor\": \"white\", \"ticks\": \"\"}}, \"scene\": {\"xaxis\": {\"backgroundcolor\": \"#E5ECF6\", \"gridcolor\": \"white\", \"gridwidth\": 2, \"linecolor\": \"white\", \"showbackground\": true, \"ticks\": \"\", \"zerolinecolor\": \"white\"}, \"yaxis\": {\"backgroundcolor\": \"#E5ECF6\", \"gridcolor\": \"white\", \"gridwidth\": 2, \"linecolor\": \"white\", \"showbackground\": true, \"ticks\": \"\", \"zerolinecolor\": \"white\"}, \"zaxis\": {\"backgroundcolor\": \"#E5ECF6\", \"gridcolor\": \"white\", \"gridwidth\": 2, \"linecolor\": \"white\", \"showbackground\": true, \"ticks\": \"\", \"zerolinecolor\": \"white\"}}, \"shapedefaults\": {\"line\": {\"color\": \"#2a3f5f\"}}, \"ternary\": {\"aaxis\": {\"gridcolor\": \"white\", \"linecolor\": \"white\", \"ticks\": \"\"}, \"baxis\": {\"gridcolor\": \"white\", \"linecolor\": \"white\", \"ticks\": \"\"}, \"bgcolor\": \"#E5ECF6\", \"caxis\": {\"gridcolor\": \"white\", \"linecolor\": \"white\", \"ticks\": \"\"}}, \"title\": {\"x\": 0.05}, \"xaxis\": {\"automargin\": true, \"gridcolor\": \"white\", \"linecolor\": \"white\", \"ticks\": \"\", \"title\": {\"standoff\": 15}, \"zerolinecolor\": \"white\", \"zerolinewidth\": 2}, \"yaxis\": {\"automargin\": true, \"gridcolor\": \"white\", \"linecolor\": \"white\", \"ticks\": \"\", \"title\": {\"standoff\": 15}, \"zerolinecolor\": \"white\", \"zerolinewidth\": 2}}}, \"title\": {\"text\": \"Log return of stock_id_0, time_id_5\"}, \"xaxis\": {\"anchor\": \"y\", \"domain\": [0.0, 1.0], \"title\": {\"text\": \"seconds_in_bucket\"}}, \"yaxis\": {\"anchor\": \"x\", \"domain\": [0.0, 1.0], \"title\": {\"text\": \"log_return\"}}},\n",
              "                        {\"responsive\": true}\n",
              "                    ).then(function(){\n",
              "                            \n",
              "var gd = document.getElementById('a4cbb66a-cfe2-4b54-9b96-f0fd04cf376b');\n",
              "var x = new MutationObserver(function (mutations, observer) {{\n",
              "        var display = window.getComputedStyle(gd).display;\n",
              "        if (!display || display === 'none') {{\n",
              "            console.log([gd, 'removed!']);\n",
              "            Plotly.purge(gd);\n",
              "            observer.disconnect();\n",
              "        }}\n",
              "}});\n",
              "\n",
              "// Listen for the removal of the full notebook cells\n",
              "var notebookContainer = gd.closest('#notebook-container');\n",
              "if (notebookContainer) {{\n",
              "    x.observe(notebookContainer, {childList: true});\n",
              "}}\n",
              "\n",
              "// Listen for the clearing of the current output cell\n",
              "var outputEl = gd.closest('.output');\n",
              "if (outputEl) {{\n",
              "    x.observe(outputEl, {childList: true});\n",
              "}}\n",
              "\n",
              "                        })\n",
              "                };\n",
              "                \n",
              "            </script>\n",
              "        </div>\n",
              "</body>\n",
              "</html>"
            ]
          },
          "metadata": {
            "tags": []
          }
        }
      ]
    },
    {
      "cell_type": "code",
      "metadata": {
        "colab": {
          "base_uri": "https://localhost:8080/"
        },
        "id": "63uFidgn43Rj",
        "outputId": "af2a6f12-500d-4575-ea8d-4a5b1a08750d"
      },
      "source": [
        "def realized_volatility(series_log_return):\n",
        "    return np.sqrt(np.sum(series_log_return**2))\n",
        "realized_vol = realized_volatility(book_example['log_return'])\n",
        "print(f'Realized volatility for stock_id 0 on time_id 5 is {realized_vol}')"
      ],
      "execution_count": 50,
      "outputs": [
        {
          "output_type": "stream",
          "text": [
            "Realized volatility for stock_id 0 on time_id 5 is 0.004499364172786558\n"
          ],
          "name": "stdout"
        }
      ]
    },
    {
      "cell_type": "code",
      "metadata": {
        "id": "I7WxYYmh5mfw"
      },
      "source": [
        "import os\n",
        "from sklearn.metrics import r2_score\n",
        "import glob\n",
        "list_order_book_file_train = glob.glob('/content/gdrive/MyDrive/optiver-realized-volatility-prediction/book_train.parquet/*')"
      ],
      "execution_count": null,
      "outputs": []
    },
    {
      "cell_type": "code",
      "metadata": {
        "id": "7a3NNQiN7ERE"
      },
      "source": [
        "def realized_volatility_per_time_id(file_path, prediction_column_name):\n",
        "    df_book_data = pd.read_parquet(file_path)\n",
        "    df_book_data['wap'] =(df_book_data['bid_price1'] * df_book_data['ask_size1']+df_book_data['ask_price1'] * df_book_data['bid_size1'])  / (\n",
        "                                      df_book_data['bid_size1']+ df_book_data[\n",
        "                                  'ask_size1'])\n",
        "    df_book_data['log_return'] = df_book_data.groupby(['time_id'])['wap'].apply(log_return)\n",
        "    df_book_data = df_book_data[~df_book_data['log_return'].isnull()]\n",
        "    df_realized_vol_per_stock =  pd.DataFrame(df_book_data.groupby(['time_id'])['log_return'].agg(realized_volatility)).reset_index()\n",
        "    df_realized_vol_per_stock = df_realized_vol_per_stock.rename(columns = {'log_return':prediction_column_name})\n",
        "    stock_id = file_path.split('=')[1]\n",
        "    df_realized_vol_per_stock['row_id'] = df_realized_vol_per_stock['time_id'].apply(lambda x:f'{stock_id}-{x}')\n",
        "    return df_realized_vol_per_stock[['row_id',prediction_column_name]]"
      ],
      "execution_count": null,
      "outputs": []
    },
    {
      "cell_type": "code",
      "metadata": {
        "id": "hFmK6WW97RNm"
      },
      "source": [
        "def past_realized_volatility_per_stock(list_file,prediction_column_name):\n",
        "    df_past_realized = pd.DataFrame()\n",
        "    for file in list_file:\n",
        "        df_past_realized = pd.concat([df_past_realized,\n",
        "                                     realized_volatility_per_time_id(file,prediction_column_name)])\n",
        "    return df_past_realized\n",
        "df_past_realized_train = past_realized_volatility_per_stock(list_file=list_order_book_file_train,\n",
        "                                                           prediction_column_name='pred')"
      ],
      "execution_count": null,
      "outputs": []
    },
    {
      "cell_type": "code",
      "metadata": {
        "id": "be8xYEpp7WDM"
      },
      "source": [
        "train['row_id'] = train['stock_id'].astype(str) + '-' + train['time_id'].astype(str)\n",
        "train = train[['row_id','target']]\n",
        "df_joined = train.merge(df_past_realized_train[['row_id','pred']], on = ['row_id'], how = 'left')"
      ],
      "execution_count": null,
      "outputs": []
    },
    {
      "cell_type": "code",
      "metadata": {
        "id": "p6SN1jyz9vfn"
      },
      "source": [
        "import os\n",
        "from sklearn.metrics import r2_score\n",
        "import glob\n",
        "list_order_book_file_train = glob.glob('/content/gdrive/MyDrive/optiver-realized-volatility-prediction/book_train.parquet/*')"
      ],
      "execution_count": 53,
      "outputs": []
    },
    {
      "cell_type": "code",
      "metadata": {
        "id": "txO9XEBef3RQ"
      },
      "source": [
        "#list_order_book_file_train"
      ],
      "execution_count": 62,
      "outputs": []
    },
    {
      "cell_type": "code",
      "metadata": {
        "id": "4_xAL2XPf6HS"
      },
      "source": [
        ""
      ],
      "execution_count": null,
      "outputs": []
    }
  ]
}